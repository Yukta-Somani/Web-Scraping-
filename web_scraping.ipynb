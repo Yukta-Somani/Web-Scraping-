{
 "cells": [
  {
   "cell_type": "code",
   "execution_count": 133,
   "metadata": {},
   "outputs": [],
   "source": [
    "import requests\n",
    "import numpy as np\n",
    "import pandas as pd\n",
    "import matplotlib.pyplot as plt\n",
    "import json\n",
    "import re"
   ]
  },
  {
   "cell_type": "code",
   "execution_count": 21,
   "metadata": {},
   "outputs": [],
   "source": [
    "url= \"https://www.boredapi.com/api/activity\"\n",
    "    "
   ]
  },
  {
   "cell_type": "code",
   "execution_count": 22,
   "metadata": {},
   "outputs": [],
   "source": [
    "res=requests.get(url)"
   ]
  },
  {
   "cell_type": "code",
   "execution_count": 23,
   "metadata": {},
   "outputs": [
    {
     "data": {
      "text/plain": [
       "200"
      ]
     },
     "execution_count": 23,
     "metadata": {},
     "output_type": "execute_result"
    }
   ],
   "source": [
    "res.status_code"
   ]
  },
  {
   "cell_type": "code",
   "execution_count": 24,
   "metadata": {},
   "outputs": [
    {
     "data": {
      "text/plain": [
       "'{\"activity\":\"Uninstall unused apps from your devices\",\"type\":\"busywork\",\"participants\":1,\"price\":0,\"link\":\"\",\"key\":\"2850593\",\"accessibility\":0}'"
      ]
     },
     "execution_count": 24,
     "metadata": {},
     "output_type": "execute_result"
    }
   ],
   "source": [
    "res.text"
   ]
  },
  {
   "cell_type": "code",
   "execution_count": 25,
   "metadata": {},
   "outputs": [],
   "source": [
    "activity=json.loads(res.text)"
   ]
  },
  {
   "cell_type": "code",
   "execution_count": 28,
   "metadata": {},
   "outputs": [
    {
     "data": {
      "text/plain": [
       "'Uninstall unused apps from your devices'"
      ]
     },
     "execution_count": 28,
     "metadata": {},
     "output_type": "execute_result"
    }
   ],
   "source": [
    "activity['activity']"
   ]
  },
  {
   "cell_type": "code",
   "execution_count": 41,
   "metadata": {},
   "outputs": [],
   "source": [
    "urll=\"https://universities.hipolabs.com/search?country=India\""
   ]
  },
  {
   "cell_type": "code",
   "execution_count": 45,
   "metadata": {},
   "outputs": [],
   "source": [
    "import bs4"
   ]
  },
  {
   "cell_type": "code",
   "execution_count": 46,
   "metadata": {},
   "outputs": [],
   "source": [
    "url=\"https://en.wikipedia.org/wiki/List_of_countries_and_dependencies_and_their_capitals_in_native_languages\""
   ]
  },
  {
   "cell_type": "code",
   "execution_count": 47,
   "metadata": {},
   "outputs": [],
   "source": [
    "res=requests.get(url)"
   ]
  },
  {
   "cell_type": "code",
   "execution_count": 49,
   "metadata": {},
   "outputs": [
    {
     "data": {
      "text/plain": [
       "200"
      ]
     },
     "execution_count": 49,
     "metadata": {},
     "output_type": "execute_result"
    }
   ],
   "source": [
    "res.status_code"
   ]
  },
  {
   "cell_type": "code",
   "execution_count": 50,
   "metadata": {},
   "outputs": [],
   "source": [
    "text=res.content"
   ]
  },
  {
   "cell_type": "code",
   "execution_count": 52,
   "metadata": {},
   "outputs": [],
   "source": [
    "soup=bs4.BeautifulSoup(text)"
   ]
  },
  {
   "cell_type": "code",
   "execution_count": 54,
   "metadata": {},
   "outputs": [
    {
     "data": {
      "text/plain": [
       "bs4.BeautifulSoup"
      ]
     },
     "execution_count": 54,
     "metadata": {},
     "output_type": "execute_result"
    }
   ],
   "source": [
    "type(soup)"
   ]
  },
  {
   "cell_type": "code",
   "execution_count": 55,
   "metadata": {},
   "outputs": [
    {
     "data": {
      "text/plain": [
       "<title>List of countries and dependencies and their capitals in native languages - Wikipedia</title>"
      ]
     },
     "execution_count": 55,
     "metadata": {},
     "output_type": "execute_result"
    }
   ],
   "source": [
    "soup.title"
   ]
  },
  {
   "cell_type": "code",
   "execution_count": 57,
   "metadata": {},
   "outputs": [
    {
     "data": {
      "text/plain": [
       "'List of countries and dependencies and their capitals in native languages'"
      ]
     },
     "execution_count": 57,
     "metadata": {},
     "output_type": "execute_result"
    }
   ],
   "source": [
    "soup.h1.text"
   ]
  },
  {
   "cell_type": "code",
   "execution_count": 58,
   "metadata": {},
   "outputs": [
    {
     "data": {
      "text/plain": [
       "<table class=\"box-Multiple_issues plainlinks metadata ambox ambox-content ambox-multiple_issues compact-ambox\" role=\"presentation\"><tbody><tr><td class=\"mbox-image\"><div class=\"mbox-image-div\"><img alt=\"\" data-file-height=\"40\" data-file-width=\"40\" decoding=\"async\" height=\"40\" src=\"//upload.wikimedia.org/wikipedia/en/thumb/b/b4/Ambox_important.svg/40px-Ambox_important.svg.png\" srcset=\"//upload.wikimedia.org/wikipedia/en/thumb/b/b4/Ambox_important.svg/60px-Ambox_important.svg.png 1.5x, //upload.wikimedia.org/wikipedia/en/thumb/b/b4/Ambox_important.svg/80px-Ambox_important.svg.png 2x\" width=\"40\"/></div></td><td class=\"mbox-text\"><div class=\"mbox-text-span\"><div class=\"multiple-issues-text mw-collapsible\"><b>This article has multiple issues.</b> Please help <b><a class=\"external text\" href=\"https://en.wikipedia.org/w/index.php?title=List_of_countries_and_dependencies_and_their_capitals_in_native_languages&amp;action=edit\">improve it</a></b> or discuss these issues on the <b><a href=\"/wiki/Talk:List_of_countries_and_dependencies_and_their_capitals_in_native_languages\" title=\"Talk:List of countries and dependencies and their capitals in native languages\">talk page</a></b>. <small><i>(<a href=\"/wiki/Help:Maintenance_template_removal\" title=\"Help:Maintenance template removal\">Learn how and when to remove these template messages</a>)</i></small>\n",
       "<div class=\"mw-collapsible-content\">\n",
       "<link href=\"mw-data:TemplateStyles:r1097763485\" rel=\"mw-deduplicated-inline-style\"/><table class=\"box-Original_research plainlinks metadata ambox ambox-content ambox-Original_research\" role=\"presentation\"><tbody><tr><td class=\"mbox-image\"><div class=\"mbox-image-div\"><img alt=\"\" data-file-height=\"40\" data-file-width=\"40\" decoding=\"async\" height=\"40\" src=\"//upload.wikimedia.org/wikipedia/en/thumb/b/b4/Ambox_important.svg/40px-Ambox_important.svg.png\" srcset=\"//upload.wikimedia.org/wikipedia/en/thumb/b/b4/Ambox_important.svg/60px-Ambox_important.svg.png 1.5x, //upload.wikimedia.org/wikipedia/en/thumb/b/b4/Ambox_important.svg/80px-Ambox_important.svg.png 2x\" width=\"40\"/></div></td><td class=\"mbox-text\"><div class=\"mbox-text-span\">This article <b>possibly contains <a href=\"/wiki/Wikipedia:No_original_research\" title=\"Wikipedia:No original research\">original research</a></b>.<span class=\"hide-when-compact\"> Please <a class=\"external text\" href=\"https://en.wikipedia.org/w/index.php?title=List_of_countries_and_dependencies_and_their_capitals_in_native_languages&amp;action=edit\">improve it</a> by <a href=\"/wiki/Wikipedia:Verifiability\" title=\"Wikipedia:Verifiability\">verifying</a> the claims made and adding <a href=\"/wiki/Wikipedia:Citing_sources#Inline_citations\" title=\"Wikipedia:Citing sources\">inline citations</a>. Statements consisting only of original research should be removed.</span> <span class=\"date-container\"><i>(<span class=\"date\">November 2019</span>)</i></span><span class=\"hide-when-compact\"><i> (<small><a href=\"/wiki/Help:Maintenance_template_removal\" title=\"Help:Maintenance template removal\">Learn how and when to remove this template message</a></small>)</i></span></div></td></tr></tbody></table>\n",
       "<link href=\"mw-data:TemplateStyles:r1097763485\" rel=\"mw-deduplicated-inline-style\"/><table class=\"box-Cleanup-lang plainlinks metadata ambox ambox-style\" role=\"presentation\"><tbody><tr><td class=\"mbox-image\"><div class=\"mbox-image-div\"><img alt=\"\" data-file-height=\"48\" data-file-width=\"48\" decoding=\"async\" height=\"40\" src=\"//upload.wikimedia.org/wikipedia/en/thumb/f/f2/Edit-clear.svg/40px-Edit-clear.svg.png\" srcset=\"//upload.wikimedia.org/wikipedia/en/thumb/f/f2/Edit-clear.svg/60px-Edit-clear.svg.png 1.5x, //upload.wikimedia.org/wikipedia/en/thumb/f/f2/Edit-clear.svg/80px-Edit-clear.svg.png 2x\" width=\"40\"/></div></td><td class=\"mbox-text\"><div class=\"mbox-text-span\">This article or section should <b>specify the language</b> of its non-English content, using {{<a href=\"/wiki/Template:Lang\" title=\"Template:Lang\">lang</a>}}, {{<a href=\"/wiki/Template:Transliteration\" title=\"Template:Transliteration\">transliteration</a>}} for transliterated languages, and {{<a href=\"/wiki/Template:IPA\" title=\"Template:IPA\">IPA</a>}} for phonetic transcriptions, with an appropriate <a href=\"/wiki/Lists_of_ISO_639_codes\" title=\"Lists of ISO 639 codes\">ISO 639 code</a>. Wikipedia's <a href=\"/wiki/Category:Wikipedia_multilingual_support_templates\" title=\"Category:Wikipedia multilingual support templates\">multilingual support templates</a> may also be used.<span class=\"hide-when-compact\"> <a href=\"/wiki/Template:Lang#Rationale\" title=\"Template:Lang\">See why</a>.</span> <span class=\"date-container\"><i>(<span class=\"date\">August 2022</span>)</i></span></div></td></tr></tbody></table>\n",
       "</div>\n",
       "</div><span class=\"hide-when-compact\"><i> (<small><a href=\"/wiki/Help:Maintenance_template_removal\" title=\"Help:Maintenance template removal\">Learn how and when to remove this template message</a></small>)</i></span></div></td></tr></tbody></table>"
      ]
     },
     "execution_count": 58,
     "metadata": {},
     "output_type": "execute_result"
    }
   ],
   "source": [
    "soup.table"
   ]
  },
  {
   "cell_type": "code",
   "execution_count": 63,
   "metadata": {},
   "outputs": [
    {
     "data": {
      "text/plain": [
       "<h1 class=\"firstHeading mw-first-heading\" id=\"firstHeading\"><span class=\"mw-page-title-main\">List of countries and dependencies and their capitals in native languages</span></h1>"
      ]
     },
     "execution_count": 63,
     "metadata": {},
     "output_type": "execute_result"
    }
   ],
   "source": [
    "soup.find('title')\n",
    "soup.find('h1')"
   ]
  },
  {
   "cell_type": "code",
   "execution_count": 65,
   "metadata": {},
   "outputs": [],
   "source": [
    "all_tables=soup.find_all('table',attrs={\"class\":\"wikitable\"})"
   ]
  },
  {
   "cell_type": "code",
   "execution_count": 66,
   "metadata": {},
   "outputs": [
    {
     "data": {
      "text/plain": [
       "25"
      ]
     },
     "execution_count": 66,
     "metadata": {},
     "output_type": "execute_result"
    }
   ],
   "source": [
    "len(all_tables)"
   ]
  },
  {
   "cell_type": "code",
   "execution_count": 68,
   "metadata": {},
   "outputs": [
    {
     "data": {
      "text/plain": [
       "<table class=\"wikitable\" style=\"text-align:center;\">\n",
       "<tbody><tr style=\"background:#ccc;\">\n",
       "<th style=\"width:175px;\">Country (<a class=\"mw-redirect\" href=\"/wiki/Exonym\" title=\"Exonym\">exonym</a>)\n",
       "</th>\n",
       "<th style=\"width:175px;\">Capital (<a class=\"mw-redirect\" href=\"/wiki/Exonym\" title=\"Exonym\">exonym</a>)\n",
       "</th>\n",
       "<th style=\"width:175px;\">Country (<a class=\"mw-redirect\" href=\"/wiki/Endonym\" title=\"Endonym\">endonym</a>)\n",
       "</th>\n",
       "<th style=\"width:175px;\">Capital (<a class=\"mw-redirect\" href=\"/wiki/Endonym\" title=\"Endonym\">endonym</a>)\n",
       "</th>\n",
       "<th style=\"width:175px;\">Official or native language(s) (alphabet/script)\n",
       "</th></tr>\n",
       "<tr>\n",
       "<td><span class=\"flagicon\"><img alt=\"\" class=\"thumbborder\" data-file-height=\"387\" data-file-width=\"512\" decoding=\"async\" height=\"15\" src=\"//upload.wikimedia.org/wikipedia/commons/thumb/9/9c/Flag_of_Denmark.svg/20px-Flag_of_Denmark.svg.png\" srcset=\"//upload.wikimedia.org/wikipedia/commons/thumb/9/9c/Flag_of_Denmark.svg/31px-Flag_of_Denmark.svg.png 1.5x, //upload.wikimedia.org/wikipedia/commons/thumb/9/9c/Flag_of_Denmark.svg/40px-Flag_of_Denmark.svg.png 2x\" width=\"20\"/></span> <b><a href=\"/wiki/Denmark\" title=\"Denmark\">Denmark</a></b></td>\n",
       "<td><a href=\"/wiki/Copenhagen\" title=\"Copenhagen\">Copenhagen</a></td>\n",
       "<td><b>Danmark</b></td>\n",
       "<td><b>København</b></td>\n",
       "<td><a href=\"/wiki/Danish_language\" title=\"Danish language\">Danish</a>\n",
       "</td></tr>\n",
       "<tr>\n",
       "<td><span class=\"flagicon\"><img alt=\"\" class=\"thumbborder\" data-file-height=\"600\" data-file-width=\"900\" decoding=\"async\" height=\"15\" src=\"//upload.wikimedia.org/wikipedia/commons/thumb/3/34/Flag_of_Djibouti.svg/23px-Flag_of_Djibouti.svg.png\" srcset=\"//upload.wikimedia.org/wikipedia/commons/thumb/3/34/Flag_of_Djibouti.svg/35px-Flag_of_Djibouti.svg.png 1.5x, //upload.wikimedia.org/wikipedia/commons/thumb/3/34/Flag_of_Djibouti.svg/45px-Flag_of_Djibouti.svg.png 2x\" width=\"23\"/></span> <b><a href=\"/wiki/Djibouti\" title=\"Djibouti\">Djibouti</a></b></td>\n",
       "<td><a class=\"mw-redirect\" href=\"/wiki/Djibouti_(city)\" title=\"Djibouti (city)\">Djibouti</a></td>\n",
       "<td><b>Jībūtī</b><br/>جيبوتي<br/><b>Djibouti</b><br/><b>Jabuuti</b><br/><b>Gabuuti</b></td>\n",
       "<td><b>Jībūtī</b><br/>جيبوتي<br/><b>Djibouti</b><br/><b>Jabuuti</b><br/><b>Gabuuti</b></td>\n",
       "<td><a class=\"mw-redirect\" href=\"/wiki/Arabic_language\" title=\"Arabic language\">Arabic</a><br/>(<a href=\"/wiki/Arabic_script\" title=\"Arabic script\">Arabic script</a>)<br/><a href=\"/wiki/French_language\" title=\"French language\">French</a><br/><a href=\"/wiki/Somali_language\" title=\"Somali language\">Somali</a><br/><a href=\"/wiki/Afar_language\" title=\"Afar language\">Afar</a>\n",
       "</td></tr>\n",
       "<tr>\n",
       "<td><span class=\"flagicon\"><img alt=\"\" class=\"thumbborder\" data-file-height=\"600\" data-file-width=\"1200\" decoding=\"async\" height=\"12\" src=\"//upload.wikimedia.org/wikipedia/commons/thumb/c/c4/Flag_of_Dominica.svg/23px-Flag_of_Dominica.svg.png\" srcset=\"//upload.wikimedia.org/wikipedia/commons/thumb/c/c4/Flag_of_Dominica.svg/35px-Flag_of_Dominica.svg.png 1.5x, //upload.wikimedia.org/wikipedia/commons/thumb/c/c4/Flag_of_Dominica.svg/46px-Flag_of_Dominica.svg.png 2x\" width=\"23\"/></span> <b><a href=\"/wiki/Dominica\" title=\"Dominica\">Dominica</a></b></td>\n",
       "<td><a href=\"/wiki/Roseau\" title=\"Roseau\">Roseau</a></td>\n",
       "<td><b>Dominica</b></td>\n",
       "<td><b>Roseau</b></td>\n",
       "<td><a href=\"/wiki/English_language\" title=\"English language\">English</a>\n",
       "</td></tr>\n",
       "<tr>\n",
       "<td><span class=\"flagicon\"><img alt=\"\" class=\"thumbborder\" data-file-height=\"600\" data-file-width=\"900\" decoding=\"async\" height=\"15\" src=\"//upload.wikimedia.org/wikipedia/commons/thumb/9/9f/Flag_of_the_Dominican_Republic.svg/23px-Flag_of_the_Dominican_Republic.svg.png\" srcset=\"//upload.wikimedia.org/wikipedia/commons/thumb/9/9f/Flag_of_the_Dominican_Republic.svg/35px-Flag_of_the_Dominican_Republic.svg.png 1.5x, //upload.wikimedia.org/wikipedia/commons/thumb/9/9f/Flag_of_the_Dominican_Republic.svg/45px-Flag_of_the_Dominican_Republic.svg.png 2x\" width=\"23\"/></span> <b><a href=\"/wiki/Dominican_Republic\" title=\"Dominican Republic\">Dominican Republic</a></b></td>\n",
       "<td><a href=\"/wiki/Santo_Domingo\" title=\"Santo Domingo\">Santo Domingo</a></td>\n",
       "<td><b>República Dominicana</b></td>\n",
       "<td><b>Santo Domingo</b></td>\n",
       "<td><a href=\"/wiki/Spanish_language\" title=\"Spanish language\">Spanish</a>\n",
       "</td></tr></tbody></table>"
      ]
     },
     "execution_count": 68,
     "metadata": {},
     "output_type": "execute_result"
    }
   ],
   "source": [
    "all_tables[3]"
   ]
  },
  {
   "cell_type": "code",
   "execution_count": 78,
   "metadata": {},
   "outputs": [],
   "source": [
    "d_table=all_tables[3].find_all('tr')[1:]\n",
    "# for d letter i am looking into data "
   ]
  },
  {
   "cell_type": "code",
   "execution_count": 79,
   "metadata": {},
   "outputs": [
    {
     "data": {
      "text/plain": [
       "4"
      ]
     },
     "execution_count": 79,
     "metadata": {},
     "output_type": "execute_result"
    }
   ],
   "source": [
    "len(d_table)"
   ]
  },
  {
   "cell_type": "code",
   "execution_count": 86,
   "metadata": {},
   "outputs": [],
   "source": [
    "all_td=d_table[0].find_all('td')"
   ]
  },
  {
   "cell_type": "code",
   "execution_count": 87,
   "metadata": {},
   "outputs": [
    {
     "data": {
      "text/plain": [
       "5"
      ]
     },
     "execution_count": 87,
     "metadata": {},
     "output_type": "execute_result"
    }
   ],
   "source": [
    "len(all_td)"
   ]
  },
  {
   "cell_type": "code",
   "execution_count": 92,
   "metadata": {},
   "outputs": [
    {
     "data": {
      "text/plain": [
       "'//upload.wikimedia.org/wikipedia/commons/thumb/9/9c/Flag_of_Denmark.svg/20px-Flag_of_Denmark.svg.png'"
      ]
     },
     "execution_count": 92,
     "metadata": {},
     "output_type": "execute_result"
    }
   ],
   "source": [
    "#all_td[0].text #denmark\n",
    "all_td[0].img.attrs['src']"
   ]
  },
  {
   "cell_type": "code",
   "execution_count": 93,
   "metadata": {},
   "outputs": [],
   "source": [
    "country=all_td[0].text "
   ]
  },
  {
   "cell_type": "code",
   "execution_count": 94,
   "metadata": {},
   "outputs": [
    {
     "data": {
      "text/plain": [
       "' Denmark'"
      ]
     },
     "execution_count": 94,
     "metadata": {},
     "output_type": "execute_result"
    }
   ],
   "source": [
    "country"
   ]
  },
  {
   "cell_type": "code",
   "execution_count": 96,
   "metadata": {},
   "outputs": [],
   "source": [
    "capital =all_td[1].text"
   ]
  },
  {
   "cell_type": "code",
   "execution_count": 98,
   "metadata": {},
   "outputs": [],
   "source": [
    "language=all_td[-1].text"
   ]
  },
  {
   "cell_type": "code",
   "execution_count": 111,
   "metadata": {},
   "outputs": [
    {
     "data": {
      "text/plain": [
       "'English, Shona\\n'"
      ]
     },
     "execution_count": 111,
     "metadata": {},
     "output_type": "execute_result"
    }
   ],
   "source": [
    "language"
   ]
  },
  {
   "cell_type": "code",
   "execution_count": 112,
   "metadata": {},
   "outputs": [],
   "source": [
    "#creating a dataframe\n",
    "\n",
    "df=pd.DataFrame({},columns=['Country','Capital','Language'])"
   ]
  },
  {
   "cell_type": "code",
   "execution_count": null,
   "metadata": {},
   "outputs": [],
   "source": []
  },
  {
   "cell_type": "code",
   "execution_count": 113,
   "metadata": {},
   "outputs": [
    {
     "name": "stdout",
     "output_type": "stream",
     "text": [
      " Denmark Copenhagen Danish\n",
      "\n",
      "\n",
      " Djibouti Djibouti Arabic(Arabic script)FrenchSomaliAfar\n",
      "\n",
      "\n",
      " Dominica Roseau English\n",
      "\n",
      "\n",
      " Dominican Republic Santo Domingo Spanish\n",
      "\n",
      "\n"
     ]
    }
   ],
   "source": [
    "#getting information about 1 table (d)\n",
    "for tr in d_table:\n",
    "    all_td=tr.find_all('td')\n",
    "\n",
    "    country=all_td[0].text\n",
    "    capital=all_td[1].text\n",
    "    language=all_td[-1].text\n",
    "    print(country , capital , language)\n",
    "    print()"
   ]
  },
  {
   "cell_type": "code",
   "execution_count": 114,
   "metadata": {},
   "outputs": [
    {
     "name": "stderr",
     "output_type": "stream",
     "text": [
      "C:\\Users\\91946\\AppData\\Local\\Temp\\ipykernel_14744\\1172982723.py:11: FutureWarning: The frame.append method is deprecated and will be removed from pandas in a future version. Use pandas.concat instead.\n",
      "  df=df.append(ele ,ignore_index=True)\n",
      "C:\\Users\\91946\\AppData\\Local\\Temp\\ipykernel_14744\\1172982723.py:11: FutureWarning: The frame.append method is deprecated and will be removed from pandas in a future version. Use pandas.concat instead.\n",
      "  df=df.append(ele ,ignore_index=True)\n",
      "C:\\Users\\91946\\AppData\\Local\\Temp\\ipykernel_14744\\1172982723.py:11: FutureWarning: The frame.append method is deprecated and will be removed from pandas in a future version. Use pandas.concat instead.\n",
      "  df=df.append(ele ,ignore_index=True)\n",
      "C:\\Users\\91946\\AppData\\Local\\Temp\\ipykernel_14744\\1172982723.py:11: FutureWarning: The frame.append method is deprecated and will be removed from pandas in a future version. Use pandas.concat instead.\n",
      "  df=df.append(ele ,ignore_index=True)\n",
      "C:\\Users\\91946\\AppData\\Local\\Temp\\ipykernel_14744\\1172982723.py:11: FutureWarning: The frame.append method is deprecated and will be removed from pandas in a future version. Use pandas.concat instead.\n",
      "  df=df.append(ele ,ignore_index=True)\n",
      "C:\\Users\\91946\\AppData\\Local\\Temp\\ipykernel_14744\\1172982723.py:11: FutureWarning: The frame.append method is deprecated and will be removed from pandas in a future version. Use pandas.concat instead.\n",
      "  df=df.append(ele ,ignore_index=True)\n",
      "C:\\Users\\91946\\AppData\\Local\\Temp\\ipykernel_14744\\1172982723.py:11: FutureWarning: The frame.append method is deprecated and will be removed from pandas in a future version. Use pandas.concat instead.\n",
      "  df=df.append(ele ,ignore_index=True)\n",
      "C:\\Users\\91946\\AppData\\Local\\Temp\\ipykernel_14744\\1172982723.py:11: FutureWarning: The frame.append method is deprecated and will be removed from pandas in a future version. Use pandas.concat instead.\n",
      "  df=df.append(ele ,ignore_index=True)\n",
      "C:\\Users\\91946\\AppData\\Local\\Temp\\ipykernel_14744\\1172982723.py:11: FutureWarning: The frame.append method is deprecated and will be removed from pandas in a future version. Use pandas.concat instead.\n",
      "  df=df.append(ele ,ignore_index=True)\n",
      "C:\\Users\\91946\\AppData\\Local\\Temp\\ipykernel_14744\\1172982723.py:11: FutureWarning: The frame.append method is deprecated and will be removed from pandas in a future version. Use pandas.concat instead.\n",
      "  df=df.append(ele ,ignore_index=True)\n",
      "C:\\Users\\91946\\AppData\\Local\\Temp\\ipykernel_14744\\1172982723.py:11: FutureWarning: The frame.append method is deprecated and will be removed from pandas in a future version. Use pandas.concat instead.\n",
      "  df=df.append(ele ,ignore_index=True)\n",
      "C:\\Users\\91946\\AppData\\Local\\Temp\\ipykernel_14744\\1172982723.py:11: FutureWarning: The frame.append method is deprecated and will be removed from pandas in a future version. Use pandas.concat instead.\n",
      "  df=df.append(ele ,ignore_index=True)\n",
      "C:\\Users\\91946\\AppData\\Local\\Temp\\ipykernel_14744\\1172982723.py:11: FutureWarning: The frame.append method is deprecated and will be removed from pandas in a future version. Use pandas.concat instead.\n",
      "  df=df.append(ele ,ignore_index=True)\n",
      "C:\\Users\\91946\\AppData\\Local\\Temp\\ipykernel_14744\\1172982723.py:11: FutureWarning: The frame.append method is deprecated and will be removed from pandas in a future version. Use pandas.concat instead.\n",
      "  df=df.append(ele ,ignore_index=True)\n",
      "C:\\Users\\91946\\AppData\\Local\\Temp\\ipykernel_14744\\1172982723.py:11: FutureWarning: The frame.append method is deprecated and will be removed from pandas in a future version. Use pandas.concat instead.\n",
      "  df=df.append(ele ,ignore_index=True)\n",
      "C:\\Users\\91946\\AppData\\Local\\Temp\\ipykernel_14744\\1172982723.py:11: FutureWarning: The frame.append method is deprecated and will be removed from pandas in a future version. Use pandas.concat instead.\n",
      "  df=df.append(ele ,ignore_index=True)\n",
      "C:\\Users\\91946\\AppData\\Local\\Temp\\ipykernel_14744\\1172982723.py:11: FutureWarning: The frame.append method is deprecated and will be removed from pandas in a future version. Use pandas.concat instead.\n",
      "  df=df.append(ele ,ignore_index=True)\n",
      "C:\\Users\\91946\\AppData\\Local\\Temp\\ipykernel_14744\\1172982723.py:11: FutureWarning: The frame.append method is deprecated and will be removed from pandas in a future version. Use pandas.concat instead.\n",
      "  df=df.append(ele ,ignore_index=True)\n",
      "C:\\Users\\91946\\AppData\\Local\\Temp\\ipykernel_14744\\1172982723.py:11: FutureWarning: The frame.append method is deprecated and will be removed from pandas in a future version. Use pandas.concat instead.\n",
      "  df=df.append(ele ,ignore_index=True)\n",
      "C:\\Users\\91946\\AppData\\Local\\Temp\\ipykernel_14744\\1172982723.py:11: FutureWarning: The frame.append method is deprecated and will be removed from pandas in a future version. Use pandas.concat instead.\n",
      "  df=df.append(ele ,ignore_index=True)\n",
      "C:\\Users\\91946\\AppData\\Local\\Temp\\ipykernel_14744\\1172982723.py:11: FutureWarning: The frame.append method is deprecated and will be removed from pandas in a future version. Use pandas.concat instead.\n",
      "  df=df.append(ele ,ignore_index=True)\n",
      "C:\\Users\\91946\\AppData\\Local\\Temp\\ipykernel_14744\\1172982723.py:11: FutureWarning: The frame.append method is deprecated and will be removed from pandas in a future version. Use pandas.concat instead.\n",
      "  df=df.append(ele ,ignore_index=True)\n",
      "C:\\Users\\91946\\AppData\\Local\\Temp\\ipykernel_14744\\1172982723.py:11: FutureWarning: The frame.append method is deprecated and will be removed from pandas in a future version. Use pandas.concat instead.\n",
      "  df=df.append(ele ,ignore_index=True)\n",
      "C:\\Users\\91946\\AppData\\Local\\Temp\\ipykernel_14744\\1172982723.py:11: FutureWarning: The frame.append method is deprecated and will be removed from pandas in a future version. Use pandas.concat instead.\n",
      "  df=df.append(ele ,ignore_index=True)\n",
      "C:\\Users\\91946\\AppData\\Local\\Temp\\ipykernel_14744\\1172982723.py:11: FutureWarning: The frame.append method is deprecated and will be removed from pandas in a future version. Use pandas.concat instead.\n",
      "  df=df.append(ele ,ignore_index=True)\n",
      "C:\\Users\\91946\\AppData\\Local\\Temp\\ipykernel_14744\\1172982723.py:11: FutureWarning: The frame.append method is deprecated and will be removed from pandas in a future version. Use pandas.concat instead.\n",
      "  df=df.append(ele ,ignore_index=True)\n",
      "C:\\Users\\91946\\AppData\\Local\\Temp\\ipykernel_14744\\1172982723.py:11: FutureWarning: The frame.append method is deprecated and will be removed from pandas in a future version. Use pandas.concat instead.\n",
      "  df=df.append(ele ,ignore_index=True)\n",
      "C:\\Users\\91946\\AppData\\Local\\Temp\\ipykernel_14744\\1172982723.py:11: FutureWarning: The frame.append method is deprecated and will be removed from pandas in a future version. Use pandas.concat instead.\n",
      "  df=df.append(ele ,ignore_index=True)\n",
      "C:\\Users\\91946\\AppData\\Local\\Temp\\ipykernel_14744\\1172982723.py:11: FutureWarning: The frame.append method is deprecated and will be removed from pandas in a future version. Use pandas.concat instead.\n",
      "  df=df.append(ele ,ignore_index=True)\n",
      "C:\\Users\\91946\\AppData\\Local\\Temp\\ipykernel_14744\\1172982723.py:11: FutureWarning: The frame.append method is deprecated and will be removed from pandas in a future version. Use pandas.concat instead.\n",
      "  df=df.append(ele ,ignore_index=True)\n",
      "C:\\Users\\91946\\AppData\\Local\\Temp\\ipykernel_14744\\1172982723.py:11: FutureWarning: The frame.append method is deprecated and will be removed from pandas in a future version. Use pandas.concat instead.\n",
      "  df=df.append(ele ,ignore_index=True)\n"
     ]
    },
    {
     "name": "stdout",
     "output_type": "stream",
     "text": [
      "Afghanistan Kabul Pashto/Dari(Arabic script)\n",
      "\n",
      "\n",
      " Albania Tirana Albanian\n",
      "\n",
      "\n",
      " Algeria Algiers Berber language(Tifinagh script)Arabic(Arabic script)\n",
      "\n",
      "\n",
      " American Samoa[1] Pago Pago SamoanEnglish\n",
      "\n",
      "\n",
      " Andorra Andorra la Vella Catalan\n",
      "\n",
      "\n",
      " Angola Luanda Portuguese Kongo\n",
      "\n",
      "\n",
      " Anguilla[2] The Valley English\n",
      "\n",
      "\n",
      " Antigua and Barbuda Saint John's English\n",
      "\n",
      "\n",
      " Argentina Buenos Aires Spanish\n",
      "\n",
      "\n",
      " Armenia Yerevan Armenian(Armenian alphabet)\n",
      "\n",
      "\n",
      " Aruba[3] Oranjestad Dutch, Papiamento\n",
      "\n",
      "\n",
      " Australia Canberra English/ Aboriginal native languages\n",
      "\n",
      "\n",
      " Austria Vienna German\n",
      "\n",
      "\n",
      " Åland[4] Mariehamn SwedishFinnish\n",
      "\n",
      "\n",
      " Azerbaijan Baku Azerbaijani\n",
      "\n",
      "\n",
      " The Bahamas Nassau English\n",
      "\n",
      "\n",
      " Bahrain Manama Arabic(Arabic script)\n",
      "\n",
      "\n",
      " Bangladesh Dhaka Bengali(Bengali script)\n",
      "\n",
      "\n",
      " Barbados Bridgetown English\n",
      "\n",
      "\n",
      " Belarus Minsk Belarusian(Cyrillic script)Russian(Cyrillic script)\n",
      "\n",
      "\n",
      " Belgium Brussels DutchFrenchGerman\n",
      "\n",
      "\n",
      " Belize Belmopan English\n",
      "\n",
      "\n",
      " Benin Porto-Novo French\n",
      "\n",
      "\n",
      " Bermuda[2] Hamilton English\n",
      "\n",
      "\n",
      " Bhutan Thimphu Dzongkha(Tibetan alphabet)\n",
      "\n",
      "\n",
      " Bolivia La Paz SpanishQuechuaAymaraGuaraní\n",
      "\n",
      "\n",
      " Bosnia and Herzegovina Sarajevo Bosnian, Croatian(Latin script), Serbian(Cyrillic script)\n",
      "\n",
      "\n",
      " Botswana Gaborone English, Tswana\n",
      "\n",
      "\n",
      " Brazil Brasília Portuguese\n",
      "\n",
      "\n",
      " British Virgin Islands[2] Road Town English\n",
      "\n",
      "\n",
      " Brunei Bandar Seri Begawan Malay(Jawi script)\n",
      "\n",
      "\n"
     ]
    },
    {
     "name": "stderr",
     "output_type": "stream",
     "text": [
      "C:\\Users\\91946\\AppData\\Local\\Temp\\ipykernel_14744\\1172982723.py:11: FutureWarning: The frame.append method is deprecated and will be removed from pandas in a future version. Use pandas.concat instead.\n",
      "  df=df.append(ele ,ignore_index=True)\n",
      "C:\\Users\\91946\\AppData\\Local\\Temp\\ipykernel_14744\\1172982723.py:11: FutureWarning: The frame.append method is deprecated and will be removed from pandas in a future version. Use pandas.concat instead.\n",
      "  df=df.append(ele ,ignore_index=True)\n",
      "C:\\Users\\91946\\AppData\\Local\\Temp\\ipykernel_14744\\1172982723.py:11: FutureWarning: The frame.append method is deprecated and will be removed from pandas in a future version. Use pandas.concat instead.\n",
      "  df=df.append(ele ,ignore_index=True)\n",
      "C:\\Users\\91946\\AppData\\Local\\Temp\\ipykernel_14744\\1172982723.py:11: FutureWarning: The frame.append method is deprecated and will be removed from pandas in a future version. Use pandas.concat instead.\n",
      "  df=df.append(ele ,ignore_index=True)\n",
      "C:\\Users\\91946\\AppData\\Local\\Temp\\ipykernel_14744\\1172982723.py:11: FutureWarning: The frame.append method is deprecated and will be removed from pandas in a future version. Use pandas.concat instead.\n",
      "  df=df.append(ele ,ignore_index=True)\n",
      "C:\\Users\\91946\\AppData\\Local\\Temp\\ipykernel_14744\\1172982723.py:11: FutureWarning: The frame.append method is deprecated and will be removed from pandas in a future version. Use pandas.concat instead.\n",
      "  df=df.append(ele ,ignore_index=True)\n",
      "C:\\Users\\91946\\AppData\\Local\\Temp\\ipykernel_14744\\1172982723.py:11: FutureWarning: The frame.append method is deprecated and will be removed from pandas in a future version. Use pandas.concat instead.\n",
      "  df=df.append(ele ,ignore_index=True)\n",
      "C:\\Users\\91946\\AppData\\Local\\Temp\\ipykernel_14744\\1172982723.py:11: FutureWarning: The frame.append method is deprecated and will be removed from pandas in a future version. Use pandas.concat instead.\n",
      "  df=df.append(ele ,ignore_index=True)\n",
      "C:\\Users\\91946\\AppData\\Local\\Temp\\ipykernel_14744\\1172982723.py:11: FutureWarning: The frame.append method is deprecated and will be removed from pandas in a future version. Use pandas.concat instead.\n",
      "  df=df.append(ele ,ignore_index=True)\n",
      "C:\\Users\\91946\\AppData\\Local\\Temp\\ipykernel_14744\\1172982723.py:11: FutureWarning: The frame.append method is deprecated and will be removed from pandas in a future version. Use pandas.concat instead.\n",
      "  df=df.append(ele ,ignore_index=True)\n",
      "C:\\Users\\91946\\AppData\\Local\\Temp\\ipykernel_14744\\1172982723.py:11: FutureWarning: The frame.append method is deprecated and will be removed from pandas in a future version. Use pandas.concat instead.\n",
      "  df=df.append(ele ,ignore_index=True)\n",
      "C:\\Users\\91946\\AppData\\Local\\Temp\\ipykernel_14744\\1172982723.py:11: FutureWarning: The frame.append method is deprecated and will be removed from pandas in a future version. Use pandas.concat instead.\n",
      "  df=df.append(ele ,ignore_index=True)\n",
      "C:\\Users\\91946\\AppData\\Local\\Temp\\ipykernel_14744\\1172982723.py:11: FutureWarning: The frame.append method is deprecated and will be removed from pandas in a future version. Use pandas.concat instead.\n",
      "  df=df.append(ele ,ignore_index=True)\n",
      "C:\\Users\\91946\\AppData\\Local\\Temp\\ipykernel_14744\\1172982723.py:11: FutureWarning: The frame.append method is deprecated and will be removed from pandas in a future version. Use pandas.concat instead.\n",
      "  df=df.append(ele ,ignore_index=True)\n",
      "C:\\Users\\91946\\AppData\\Local\\Temp\\ipykernel_14744\\1172982723.py:11: FutureWarning: The frame.append method is deprecated and will be removed from pandas in a future version. Use pandas.concat instead.\n",
      "  df=df.append(ele ,ignore_index=True)\n",
      "C:\\Users\\91946\\AppData\\Local\\Temp\\ipykernel_14744\\1172982723.py:11: FutureWarning: The frame.append method is deprecated and will be removed from pandas in a future version. Use pandas.concat instead.\n",
      "  df=df.append(ele ,ignore_index=True)\n",
      "C:\\Users\\91946\\AppData\\Local\\Temp\\ipykernel_14744\\1172982723.py:11: FutureWarning: The frame.append method is deprecated and will be removed from pandas in a future version. Use pandas.concat instead.\n",
      "  df=df.append(ele ,ignore_index=True)\n",
      "C:\\Users\\91946\\AppData\\Local\\Temp\\ipykernel_14744\\1172982723.py:11: FutureWarning: The frame.append method is deprecated and will be removed from pandas in a future version. Use pandas.concat instead.\n",
      "  df=df.append(ele ,ignore_index=True)\n",
      "C:\\Users\\91946\\AppData\\Local\\Temp\\ipykernel_14744\\1172982723.py:11: FutureWarning: The frame.append method is deprecated and will be removed from pandas in a future version. Use pandas.concat instead.\n",
      "  df=df.append(ele ,ignore_index=True)\n",
      "C:\\Users\\91946\\AppData\\Local\\Temp\\ipykernel_14744\\1172982723.py:11: FutureWarning: The frame.append method is deprecated and will be removed from pandas in a future version. Use pandas.concat instead.\n",
      "  df=df.append(ele ,ignore_index=True)\n",
      "C:\\Users\\91946\\AppData\\Local\\Temp\\ipykernel_14744\\1172982723.py:11: FutureWarning: The frame.append method is deprecated and will be removed from pandas in a future version. Use pandas.concat instead.\n",
      "  df=df.append(ele ,ignore_index=True)\n",
      "C:\\Users\\91946\\AppData\\Local\\Temp\\ipykernel_14744\\1172982723.py:11: FutureWarning: The frame.append method is deprecated and will be removed from pandas in a future version. Use pandas.concat instead.\n",
      "  df=df.append(ele ,ignore_index=True)\n",
      "C:\\Users\\91946\\AppData\\Local\\Temp\\ipykernel_14744\\1172982723.py:11: FutureWarning: The frame.append method is deprecated and will be removed from pandas in a future version. Use pandas.concat instead.\n",
      "  df=df.append(ele ,ignore_index=True)\n",
      "C:\\Users\\91946\\AppData\\Local\\Temp\\ipykernel_14744\\1172982723.py:11: FutureWarning: The frame.append method is deprecated and will be removed from pandas in a future version. Use pandas.concat instead.\n",
      "  df=df.append(ele ,ignore_index=True)\n",
      "C:\\Users\\91946\\AppData\\Local\\Temp\\ipykernel_14744\\1172982723.py:11: FutureWarning: The frame.append method is deprecated and will be removed from pandas in a future version. Use pandas.concat instead.\n",
      "  df=df.append(ele ,ignore_index=True)\n",
      "C:\\Users\\91946\\AppData\\Local\\Temp\\ipykernel_14744\\1172982723.py:11: FutureWarning: The frame.append method is deprecated and will be removed from pandas in a future version. Use pandas.concat instead.\n",
      "  df=df.append(ele ,ignore_index=True)\n",
      "C:\\Users\\91946\\AppData\\Local\\Temp\\ipykernel_14744\\1172982723.py:11: FutureWarning: The frame.append method is deprecated and will be removed from pandas in a future version. Use pandas.concat instead.\n",
      "  df=df.append(ele ,ignore_index=True)\n",
      "C:\\Users\\91946\\AppData\\Local\\Temp\\ipykernel_14744\\1172982723.py:11: FutureWarning: The frame.append method is deprecated and will be removed from pandas in a future version. Use pandas.concat instead.\n",
      "  df=df.append(ele ,ignore_index=True)\n",
      "C:\\Users\\91946\\AppData\\Local\\Temp\\ipykernel_14744\\1172982723.py:11: FutureWarning: The frame.append method is deprecated and will be removed from pandas in a future version. Use pandas.concat instead.\n",
      "  df=df.append(ele ,ignore_index=True)\n",
      "C:\\Users\\91946\\AppData\\Local\\Temp\\ipykernel_14744\\1172982723.py:11: FutureWarning: The frame.append method is deprecated and will be removed from pandas in a future version. Use pandas.concat instead.\n",
      "  df=df.append(ele ,ignore_index=True)\n",
      "C:\\Users\\91946\\AppData\\Local\\Temp\\ipykernel_14744\\1172982723.py:11: FutureWarning: The frame.append method is deprecated and will be removed from pandas in a future version. Use pandas.concat instead.\n",
      "  df=df.append(ele ,ignore_index=True)\n",
      "C:\\Users\\91946\\AppData\\Local\\Temp\\ipykernel_14744\\1172982723.py:11: FutureWarning: The frame.append method is deprecated and will be removed from pandas in a future version. Use pandas.concat instead.\n",
      "  df=df.append(ele ,ignore_index=True)\n"
     ]
    },
    {
     "name": "stdout",
     "output_type": "stream",
     "text": [
      " Bulgaria Sofia Bulgarian(Cyrillic script)\n",
      "\n",
      "\n",
      " Burkina Faso Ouagadougou French\n",
      "\n",
      "\n",
      " Burundi Gitega Kirundi  French\n",
      "\n",
      "\n",
      " Cambodia Phnom Penh Khmer(Khmer script)\n",
      "\n",
      "\n",
      " Cameroon Yaoundé FrenchEnglish\n",
      "\n",
      "\n",
      " Canada Ottawa English, French\n",
      "\n",
      "\n",
      " Cape Verde Praia Portuguese\n",
      "\n",
      "\n",
      " Cayman Islands[2] George Town English\n",
      "\n",
      "\n",
      " Central African Republic Bangui FrenchSango\n",
      "\n",
      "\n",
      " Chad N'Djamena FrenchArabic(Arabic script)\n",
      "\n",
      "\n",
      " Chile Santiago Spanish\n",
      "\n",
      "\n",
      " China (People's Republic of) Beijing Mandarin Chinese(Chinese characters)\n",
      "\n",
      "\n",
      " Christmas Island[6] Flying Fish Cove English\n",
      "\n",
      "\n",
      " Cocos Islands[6] West Island English\n",
      "\n",
      "\n",
      " Colombia Bogotá Spanish\n",
      "\n",
      "\n",
      " Comoros Moroni ShikomorArabic(Arabic script)French\n",
      "\n",
      "\n",
      " Republic of the Congo Brazzaville FrenchKongo Lingala\n",
      "\n",
      "\n",
      " Democratic Republic of the Congo\n",
      " Kinshasa French Kongo Lingala Swahili\n",
      "\n",
      "\n",
      " Cook Islands[7] Avarua English  Cook Islands Māori\n",
      "\n",
      "\n",
      " Costa Rica San José Spanish\n",
      "\n",
      "\n",
      " Côte d'Ivoire(formerly Ivory Coast) Yamoussoukro French\n",
      "\n",
      "\n",
      " Croatia Zagreb Croatian\n",
      "\n",
      "\n",
      " Cuba Havana Spanish\n",
      "\n",
      "\n",
      " Curaçao[3] Willemstad DutchPapiamentoEnglish\n",
      "\n",
      "\n",
      " Cyprus Nicosia Greek(Greek alphabet)Turkish\n",
      "\n",
      "\n",
      " Czech Republic Prague Czech\n",
      "\n",
      "\n",
      " Denmark Copenhagen Danish\n",
      "\n",
      "\n",
      " Djibouti Djibouti Arabic(Arabic script)FrenchSomaliAfar\n",
      "\n",
      "\n",
      " Dominica Roseau English\n",
      "\n",
      "\n",
      " Dominican Republic Santo Domingo Spanish\n",
      "\n",
      "\n",
      " East Timor Díli TetumPortuguese\n",
      "\n",
      "\n",
      " Ecuador Quito Spanish\n",
      "\n",
      "\n"
     ]
    },
    {
     "name": "stderr",
     "output_type": "stream",
     "text": [
      "C:\\Users\\91946\\AppData\\Local\\Temp\\ipykernel_14744\\1172982723.py:11: FutureWarning: The frame.append method is deprecated and will be removed from pandas in a future version. Use pandas.concat instead.\n",
      "  df=df.append(ele ,ignore_index=True)\n",
      "C:\\Users\\91946\\AppData\\Local\\Temp\\ipykernel_14744\\1172982723.py:11: FutureWarning: The frame.append method is deprecated and will be removed from pandas in a future version. Use pandas.concat instead.\n",
      "  df=df.append(ele ,ignore_index=True)\n",
      "C:\\Users\\91946\\AppData\\Local\\Temp\\ipykernel_14744\\1172982723.py:11: FutureWarning: The frame.append method is deprecated and will be removed from pandas in a future version. Use pandas.concat instead.\n",
      "  df=df.append(ele ,ignore_index=True)\n",
      "C:\\Users\\91946\\AppData\\Local\\Temp\\ipykernel_14744\\1172982723.py:11: FutureWarning: The frame.append method is deprecated and will be removed from pandas in a future version. Use pandas.concat instead.\n",
      "  df=df.append(ele ,ignore_index=True)\n",
      "C:\\Users\\91946\\AppData\\Local\\Temp\\ipykernel_14744\\1172982723.py:11: FutureWarning: The frame.append method is deprecated and will be removed from pandas in a future version. Use pandas.concat instead.\n",
      "  df=df.append(ele ,ignore_index=True)\n",
      "C:\\Users\\91946\\AppData\\Local\\Temp\\ipykernel_14744\\1172982723.py:11: FutureWarning: The frame.append method is deprecated and will be removed from pandas in a future version. Use pandas.concat instead.\n",
      "  df=df.append(ele ,ignore_index=True)\n",
      "C:\\Users\\91946\\AppData\\Local\\Temp\\ipykernel_14744\\1172982723.py:11: FutureWarning: The frame.append method is deprecated and will be removed from pandas in a future version. Use pandas.concat instead.\n",
      "  df=df.append(ele ,ignore_index=True)\n",
      "C:\\Users\\91946\\AppData\\Local\\Temp\\ipykernel_14744\\1172982723.py:11: FutureWarning: The frame.append method is deprecated and will be removed from pandas in a future version. Use pandas.concat instead.\n",
      "  df=df.append(ele ,ignore_index=True)\n",
      "C:\\Users\\91946\\AppData\\Local\\Temp\\ipykernel_14744\\1172982723.py:11: FutureWarning: The frame.append method is deprecated and will be removed from pandas in a future version. Use pandas.concat instead.\n",
      "  df=df.append(ele ,ignore_index=True)\n",
      "C:\\Users\\91946\\AppData\\Local\\Temp\\ipykernel_14744\\1172982723.py:11: FutureWarning: The frame.append method is deprecated and will be removed from pandas in a future version. Use pandas.concat instead.\n",
      "  df=df.append(ele ,ignore_index=True)\n",
      "C:\\Users\\91946\\AppData\\Local\\Temp\\ipykernel_14744\\1172982723.py:11: FutureWarning: The frame.append method is deprecated and will be removed from pandas in a future version. Use pandas.concat instead.\n",
      "  df=df.append(ele ,ignore_index=True)\n",
      "C:\\Users\\91946\\AppData\\Local\\Temp\\ipykernel_14744\\1172982723.py:11: FutureWarning: The frame.append method is deprecated and will be removed from pandas in a future version. Use pandas.concat instead.\n",
      "  df=df.append(ele ,ignore_index=True)\n",
      "C:\\Users\\91946\\AppData\\Local\\Temp\\ipykernel_14744\\1172982723.py:11: FutureWarning: The frame.append method is deprecated and will be removed from pandas in a future version. Use pandas.concat instead.\n",
      "  df=df.append(ele ,ignore_index=True)\n",
      "C:\\Users\\91946\\AppData\\Local\\Temp\\ipykernel_14744\\1172982723.py:11: FutureWarning: The frame.append method is deprecated and will be removed from pandas in a future version. Use pandas.concat instead.\n",
      "  df=df.append(ele ,ignore_index=True)\n",
      "C:\\Users\\91946\\AppData\\Local\\Temp\\ipykernel_14744\\1172982723.py:11: FutureWarning: The frame.append method is deprecated and will be removed from pandas in a future version. Use pandas.concat instead.\n",
      "  df=df.append(ele ,ignore_index=True)\n",
      "C:\\Users\\91946\\AppData\\Local\\Temp\\ipykernel_14744\\1172982723.py:11: FutureWarning: The frame.append method is deprecated and will be removed from pandas in a future version. Use pandas.concat instead.\n",
      "  df=df.append(ele ,ignore_index=True)\n",
      "C:\\Users\\91946\\AppData\\Local\\Temp\\ipykernel_14744\\1172982723.py:11: FutureWarning: The frame.append method is deprecated and will be removed from pandas in a future version. Use pandas.concat instead.\n",
      "  df=df.append(ele ,ignore_index=True)\n",
      "C:\\Users\\91946\\AppData\\Local\\Temp\\ipykernel_14744\\1172982723.py:11: FutureWarning: The frame.append method is deprecated and will be removed from pandas in a future version. Use pandas.concat instead.\n",
      "  df=df.append(ele ,ignore_index=True)\n",
      "C:\\Users\\91946\\AppData\\Local\\Temp\\ipykernel_14744\\1172982723.py:11: FutureWarning: The frame.append method is deprecated and will be removed from pandas in a future version. Use pandas.concat instead.\n",
      "  df=df.append(ele ,ignore_index=True)\n",
      "C:\\Users\\91946\\AppData\\Local\\Temp\\ipykernel_14744\\1172982723.py:11: FutureWarning: The frame.append method is deprecated and will be removed from pandas in a future version. Use pandas.concat instead.\n",
      "  df=df.append(ele ,ignore_index=True)\n",
      "C:\\Users\\91946\\AppData\\Local\\Temp\\ipykernel_14744\\1172982723.py:11: FutureWarning: The frame.append method is deprecated and will be removed from pandas in a future version. Use pandas.concat instead.\n",
      "  df=df.append(ele ,ignore_index=True)\n",
      "C:\\Users\\91946\\AppData\\Local\\Temp\\ipykernel_14744\\1172982723.py:11: FutureWarning: The frame.append method is deprecated and will be removed from pandas in a future version. Use pandas.concat instead.\n",
      "  df=df.append(ele ,ignore_index=True)\n",
      "C:\\Users\\91946\\AppData\\Local\\Temp\\ipykernel_14744\\1172982723.py:11: FutureWarning: The frame.append method is deprecated and will be removed from pandas in a future version. Use pandas.concat instead.\n",
      "  df=df.append(ele ,ignore_index=True)\n",
      "C:\\Users\\91946\\AppData\\Local\\Temp\\ipykernel_14744\\1172982723.py:11: FutureWarning: The frame.append method is deprecated and will be removed from pandas in a future version. Use pandas.concat instead.\n",
      "  df=df.append(ele ,ignore_index=True)\n",
      "C:\\Users\\91946\\AppData\\Local\\Temp\\ipykernel_14744\\1172982723.py:11: FutureWarning: The frame.append method is deprecated and will be removed from pandas in a future version. Use pandas.concat instead.\n",
      "  df=df.append(ele ,ignore_index=True)\n",
      "C:\\Users\\91946\\AppData\\Local\\Temp\\ipykernel_14744\\1172982723.py:11: FutureWarning: The frame.append method is deprecated and will be removed from pandas in a future version. Use pandas.concat instead.\n",
      "  df=df.append(ele ,ignore_index=True)\n",
      "C:\\Users\\91946\\AppData\\Local\\Temp\\ipykernel_14744\\1172982723.py:11: FutureWarning: The frame.append method is deprecated and will be removed from pandas in a future version. Use pandas.concat instead.\n",
      "  df=df.append(ele ,ignore_index=True)\n",
      "C:\\Users\\91946\\AppData\\Local\\Temp\\ipykernel_14744\\1172982723.py:11: FutureWarning: The frame.append method is deprecated and will be removed from pandas in a future version. Use pandas.concat instead.\n",
      "  df=df.append(ele ,ignore_index=True)\n",
      "C:\\Users\\91946\\AppData\\Local\\Temp\\ipykernel_14744\\1172982723.py:11: FutureWarning: The frame.append method is deprecated and will be removed from pandas in a future version. Use pandas.concat instead.\n",
      "  df=df.append(ele ,ignore_index=True)\n",
      "C:\\Users\\91946\\AppData\\Local\\Temp\\ipykernel_14744\\1172982723.py:11: FutureWarning: The frame.append method is deprecated and will be removed from pandas in a future version. Use pandas.concat instead.\n",
      "  df=df.append(ele ,ignore_index=True)\n",
      "C:\\Users\\91946\\AppData\\Local\\Temp\\ipykernel_14744\\1172982723.py:11: FutureWarning: The frame.append method is deprecated and will be removed from pandas in a future version. Use pandas.concat instead.\n",
      "  df=df.append(ele ,ignore_index=True)\n",
      "C:\\Users\\91946\\AppData\\Local\\Temp\\ipykernel_14744\\1172982723.py:11: FutureWarning: The frame.append method is deprecated and will be removed from pandas in a future version. Use pandas.concat instead.\n",
      "  df=df.append(ele ,ignore_index=True)\n",
      "C:\\Users\\91946\\AppData\\Local\\Temp\\ipykernel_14744\\1172982723.py:11: FutureWarning: The frame.append method is deprecated and will be removed from pandas in a future version. Use pandas.concat instead.\n",
      "  df=df.append(ele ,ignore_index=True)\n",
      "C:\\Users\\91946\\AppData\\Local\\Temp\\ipykernel_14744\\1172982723.py:11: FutureWarning: The frame.append method is deprecated and will be removed from pandas in a future version. Use pandas.concat instead.\n",
      "  df=df.append(ele ,ignore_index=True)\n",
      "C:\\Users\\91946\\AppData\\Local\\Temp\\ipykernel_14744\\1172982723.py:11: FutureWarning: The frame.append method is deprecated and will be removed from pandas in a future version. Use pandas.concat instead.\n",
      "  df=df.append(ele ,ignore_index=True)\n"
     ]
    },
    {
     "name": "stdout",
     "output_type": "stream",
     "text": [
      " Egypt Cairo Arabic(Arabic script)\n",
      "\n",
      "\n",
      " El Salvador San Salvador Spanish\n",
      "\n",
      "\n",
      " Equatorial Guinea Malabo Spanish  French  Portuguese\n",
      "\n",
      "\n",
      " Eritrea Asmara Arabic(Arabic script)Tigrinya(Ge'ez script)\n",
      "\n",
      "\n",
      " Estonia Tallinn Estonian\n",
      "\n",
      "\n",
      " Eswatini(formerly Swaziland) Mbabane EnglishSwazi\n",
      "\n",
      "\n",
      " Ethiopia Addis Ababa Amharic(Ge'ez script)\n",
      "\n",
      "\n",
      " Falkland Islands[2] Stanley English\n",
      "\n",
      "\n",
      " Faroe Islands[8] Tórshavn FaroeseDanish\n",
      "\n",
      "\n",
      " Fiji Suva EnglishFijianFiji Hindi\n",
      "\n",
      "\n",
      " Finland Helsinki FinnishSwedish\n",
      "\n",
      "\n",
      " France Paris French\n",
      "\n",
      "\n",
      " French Guiana[9] Cayenne French\n",
      "\n",
      "\n",
      " French Polynesia[10] Papeete French\n",
      "\n",
      "\n",
      " Gabon Libreville French\n",
      "\n",
      "\n",
      " The Gambia Banjul English\n",
      "\n",
      "\n",
      " Georgia Tbilisi Georgian(Georgian alphabet)\n",
      "\n",
      "\n",
      " Germany Berlin German\n",
      "\n",
      "\n",
      " Ghana Accra EnglishAkanTwiEwe\n",
      "\n",
      "\n",
      " Gibraltar[2] Gibraltar English\n",
      "\n",
      "\n",
      " Greece Athens Greek(Greek alphabet)\n",
      "\n",
      "\n",
      " Greenland[8] Nuuk GreenlandicDanish\n",
      "\n",
      "\n",
      " Grenada St. George's English\n",
      "\n",
      "\n",
      " Guadeloupe[9] Basse-Terre French\n",
      "\n",
      "\n",
      " Guam[1] Hagåtñaformerly Agaña EnglishChamorro\n",
      "\n",
      "\n",
      " Guatemala Guatemala City Spanish\n",
      "\n",
      "\n",
      " Guernsey[11] Saint Peter Port English\n",
      "\n",
      "\n",
      " Guinea Conakry FrenchManinka, SusuPular\n",
      "\n",
      "\n",
      " Guinea-Bissau Bissau Portuguese\n",
      "\n",
      "\n",
      " Guyana Georgetown English\n",
      "\n",
      "\n",
      " Haiti Port-au-Prince FrenchHaitian Creole\n",
      "\n",
      "\n",
      " Honduras Tegucigalpa Spanish\n",
      "\n",
      "\n",
      " Hong Kong[12] Hong Kong EnglishCantonese(Traditional Chinese characters)\n",
      "\n",
      "\n",
      " Hungary Budapest Hungarian\n",
      "\n",
      "\n",
      " Iceland Reykjavík Icelandic\n",
      "\n",
      "\n"
     ]
    },
    {
     "name": "stderr",
     "output_type": "stream",
     "text": [
      "C:\\Users\\91946\\AppData\\Local\\Temp\\ipykernel_14744\\1172982723.py:11: FutureWarning: The frame.append method is deprecated and will be removed from pandas in a future version. Use pandas.concat instead.\n",
      "  df=df.append(ele ,ignore_index=True)\n",
      "C:\\Users\\91946\\AppData\\Local\\Temp\\ipykernel_14744\\1172982723.py:11: FutureWarning: The frame.append method is deprecated and will be removed from pandas in a future version. Use pandas.concat instead.\n",
      "  df=df.append(ele ,ignore_index=True)\n",
      "C:\\Users\\91946\\AppData\\Local\\Temp\\ipykernel_14744\\1172982723.py:11: FutureWarning: The frame.append method is deprecated and will be removed from pandas in a future version. Use pandas.concat instead.\n",
      "  df=df.append(ele ,ignore_index=True)\n",
      "C:\\Users\\91946\\AppData\\Local\\Temp\\ipykernel_14744\\1172982723.py:11: FutureWarning: The frame.append method is deprecated and will be removed from pandas in a future version. Use pandas.concat instead.\n",
      "  df=df.append(ele ,ignore_index=True)\n",
      "C:\\Users\\91946\\AppData\\Local\\Temp\\ipykernel_14744\\1172982723.py:11: FutureWarning: The frame.append method is deprecated and will be removed from pandas in a future version. Use pandas.concat instead.\n",
      "  df=df.append(ele ,ignore_index=True)\n",
      "C:\\Users\\91946\\AppData\\Local\\Temp\\ipykernel_14744\\1172982723.py:11: FutureWarning: The frame.append method is deprecated and will be removed from pandas in a future version. Use pandas.concat instead.\n",
      "  df=df.append(ele ,ignore_index=True)\n",
      "C:\\Users\\91946\\AppData\\Local\\Temp\\ipykernel_14744\\1172982723.py:11: FutureWarning: The frame.append method is deprecated and will be removed from pandas in a future version. Use pandas.concat instead.\n",
      "  df=df.append(ele ,ignore_index=True)\n",
      "C:\\Users\\91946\\AppData\\Local\\Temp\\ipykernel_14744\\1172982723.py:11: FutureWarning: The frame.append method is deprecated and will be removed from pandas in a future version. Use pandas.concat instead.\n",
      "  df=df.append(ele ,ignore_index=True)\n",
      "C:\\Users\\91946\\AppData\\Local\\Temp\\ipykernel_14744\\1172982723.py:11: FutureWarning: The frame.append method is deprecated and will be removed from pandas in a future version. Use pandas.concat instead.\n",
      "  df=df.append(ele ,ignore_index=True)\n",
      "C:\\Users\\91946\\AppData\\Local\\Temp\\ipykernel_14744\\1172982723.py:11: FutureWarning: The frame.append method is deprecated and will be removed from pandas in a future version. Use pandas.concat instead.\n",
      "  df=df.append(ele ,ignore_index=True)\n",
      "C:\\Users\\91946\\AppData\\Local\\Temp\\ipykernel_14744\\1172982723.py:11: FutureWarning: The frame.append method is deprecated and will be removed from pandas in a future version. Use pandas.concat instead.\n",
      "  df=df.append(ele ,ignore_index=True)\n",
      "C:\\Users\\91946\\AppData\\Local\\Temp\\ipykernel_14744\\1172982723.py:11: FutureWarning: The frame.append method is deprecated and will be removed from pandas in a future version. Use pandas.concat instead.\n",
      "  df=df.append(ele ,ignore_index=True)\n",
      "C:\\Users\\91946\\AppData\\Local\\Temp\\ipykernel_14744\\1172982723.py:11: FutureWarning: The frame.append method is deprecated and will be removed from pandas in a future version. Use pandas.concat instead.\n",
      "  df=df.append(ele ,ignore_index=True)\n",
      "C:\\Users\\91946\\AppData\\Local\\Temp\\ipykernel_14744\\1172982723.py:11: FutureWarning: The frame.append method is deprecated and will be removed from pandas in a future version. Use pandas.concat instead.\n",
      "  df=df.append(ele ,ignore_index=True)\n",
      "C:\\Users\\91946\\AppData\\Local\\Temp\\ipykernel_14744\\1172982723.py:11: FutureWarning: The frame.append method is deprecated and will be removed from pandas in a future version. Use pandas.concat instead.\n",
      "  df=df.append(ele ,ignore_index=True)\n",
      "C:\\Users\\91946\\AppData\\Local\\Temp\\ipykernel_14744\\1172982723.py:11: FutureWarning: The frame.append method is deprecated and will be removed from pandas in a future version. Use pandas.concat instead.\n",
      "  df=df.append(ele ,ignore_index=True)\n",
      "C:\\Users\\91946\\AppData\\Local\\Temp\\ipykernel_14744\\1172982723.py:11: FutureWarning: The frame.append method is deprecated and will be removed from pandas in a future version. Use pandas.concat instead.\n",
      "  df=df.append(ele ,ignore_index=True)\n",
      "C:\\Users\\91946\\AppData\\Local\\Temp\\ipykernel_14744\\1172982723.py:11: FutureWarning: The frame.append method is deprecated and will be removed from pandas in a future version. Use pandas.concat instead.\n",
      "  df=df.append(ele ,ignore_index=True)\n",
      "C:\\Users\\91946\\AppData\\Local\\Temp\\ipykernel_14744\\1172982723.py:11: FutureWarning: The frame.append method is deprecated and will be removed from pandas in a future version. Use pandas.concat instead.\n",
      "  df=df.append(ele ,ignore_index=True)\n",
      "C:\\Users\\91946\\AppData\\Local\\Temp\\ipykernel_14744\\1172982723.py:11: FutureWarning: The frame.append method is deprecated and will be removed from pandas in a future version. Use pandas.concat instead.\n",
      "  df=df.append(ele ,ignore_index=True)\n",
      "C:\\Users\\91946\\AppData\\Local\\Temp\\ipykernel_14744\\1172982723.py:11: FutureWarning: The frame.append method is deprecated and will be removed from pandas in a future version. Use pandas.concat instead.\n",
      "  df=df.append(ele ,ignore_index=True)\n",
      "C:\\Users\\91946\\AppData\\Local\\Temp\\ipykernel_14744\\1172982723.py:11: FutureWarning: The frame.append method is deprecated and will be removed from pandas in a future version. Use pandas.concat instead.\n",
      "  df=df.append(ele ,ignore_index=True)\n",
      "C:\\Users\\91946\\AppData\\Local\\Temp\\ipykernel_14744\\1172982723.py:11: FutureWarning: The frame.append method is deprecated and will be removed from pandas in a future version. Use pandas.concat instead.\n",
      "  df=df.append(ele ,ignore_index=True)\n",
      "C:\\Users\\91946\\AppData\\Local\\Temp\\ipykernel_14744\\1172982723.py:11: FutureWarning: The frame.append method is deprecated and will be removed from pandas in a future version. Use pandas.concat instead.\n",
      "  df=df.append(ele ,ignore_index=True)\n",
      "C:\\Users\\91946\\AppData\\Local\\Temp\\ipykernel_14744\\1172982723.py:11: FutureWarning: The frame.append method is deprecated and will be removed from pandas in a future version. Use pandas.concat instead.\n",
      "  df=df.append(ele ,ignore_index=True)\n",
      "C:\\Users\\91946\\AppData\\Local\\Temp\\ipykernel_14744\\1172982723.py:11: FutureWarning: The frame.append method is deprecated and will be removed from pandas in a future version. Use pandas.concat instead.\n",
      "  df=df.append(ele ,ignore_index=True)\n",
      "C:\\Users\\91946\\AppData\\Local\\Temp\\ipykernel_14744\\1172982723.py:11: FutureWarning: The frame.append method is deprecated and will be removed from pandas in a future version. Use pandas.concat instead.\n",
      "  df=df.append(ele ,ignore_index=True)\n",
      "C:\\Users\\91946\\AppData\\Local\\Temp\\ipykernel_14744\\1172982723.py:11: FutureWarning: The frame.append method is deprecated and will be removed from pandas in a future version. Use pandas.concat instead.\n",
      "  df=df.append(ele ,ignore_index=True)\n",
      "C:\\Users\\91946\\AppData\\Local\\Temp\\ipykernel_14744\\1172982723.py:11: FutureWarning: The frame.append method is deprecated and will be removed from pandas in a future version. Use pandas.concat instead.\n",
      "  df=df.append(ele ,ignore_index=True)\n",
      "C:\\Users\\91946\\AppData\\Local\\Temp\\ipykernel_14744\\1172982723.py:11: FutureWarning: The frame.append method is deprecated and will be removed from pandas in a future version. Use pandas.concat instead.\n",
      "  df=df.append(ele ,ignore_index=True)\n",
      "C:\\Users\\91946\\AppData\\Local\\Temp\\ipykernel_14744\\1172982723.py:11: FutureWarning: The frame.append method is deprecated and will be removed from pandas in a future version. Use pandas.concat instead.\n",
      "  df=df.append(ele ,ignore_index=True)\n",
      "C:\\Users\\91946\\AppData\\Local\\Temp\\ipykernel_14744\\1172982723.py:11: FutureWarning: The frame.append method is deprecated and will be removed from pandas in a future version. Use pandas.concat instead.\n",
      "  df=df.append(ele ,ignore_index=True)\n",
      "C:\\Users\\91946\\AppData\\Local\\Temp\\ipykernel_14744\\1172982723.py:11: FutureWarning: The frame.append method is deprecated and will be removed from pandas in a future version. Use pandas.concat instead.\n",
      "  df=df.append(ele ,ignore_index=True)\n",
      "C:\\Users\\91946\\AppData\\Local\\Temp\\ipykernel_14744\\1172982723.py:11: FutureWarning: The frame.append method is deprecated and will be removed from pandas in a future version. Use pandas.concat instead.\n",
      "  df=df.append(ele ,ignore_index=True)\n"
     ]
    },
    {
     "name": "stdout",
     "output_type": "stream",
     "text": [
      " India New Delhi Assamese(Assamese script)Bengali(Bengali script)EnglishGujarati(Gujarāti script)Hindi(Devanagari script)Kannada(Kannada script)Konkani(Devanagari script)Malayalam(Malayalam script)Marathi(Devanagari script)Nepalese(Devanagari script)Odia(Odia script)Punjabi(Gurmukhi script)Sanskrit(Devanagari script)Tamil(Tamil script)Telugu(Telugu script)\n",
      "\n",
      "\n",
      " Indonesia Jakarta Bahasa Indonesia\n",
      "\n",
      "\n",
      " Iran Tehran Persian(Persian script)\n",
      "\n",
      "\n",
      " Iraq Baghdad Arabic(Arabic script)Kurdish\n",
      "\n",
      "\n",
      " Ireland Dublin IrishEnglish\n",
      "\n",
      "\n",
      " Isle of Man[11] Douglas EnglishManx\n",
      "\n",
      "\n",
      " Israel Jerusalem (declared)[a] Hebrew(Hebrew script)Arabic(Arabic script)\n",
      "\n",
      "\n",
      " Italy Rome Italian\n",
      "\n",
      "\n",
      " Jamaica Kingston English\n",
      "\n",
      "\n",
      " Japan Tokyo Japanese(Japanese characters)\n",
      "\n",
      "\n",
      " Jersey[11] St. Helier EnglishFrenchJèrriais\n",
      "\n",
      "\n",
      " Jordan Amman Arabic(Arabic script)\n",
      "\n",
      "\n",
      " Kazakhstan Astana Kazakh(Cyrillic script)Russian(Cyrillic script)\n",
      "\n",
      "\n",
      " Kenya Nairobi English, Swahili\n",
      "\n",
      "\n",
      " Kiribati Tarawa[13] English, Gilbertese\n",
      "\n",
      "\n",
      " North Korea Pyongyang Korean(Hangul/Hanja)\n",
      "\n",
      "\n",
      " South Korea Seoul Korean(Hangul/Hanja)\n",
      "\n",
      "\n",
      " Kosovo[14] Pristina Albanian  Serbian (Latin)  Serbian (Cyrillic)\n",
      "\n",
      "\n",
      " Kuwait Kuwait City Arabic (Official)(Arabic script) Kuwaiti Gulf Arabic (native)(Arabic script)\n",
      "\n",
      "\n",
      " Kyrgyzstan Bishkek Kyrgyz(Cyrillic script)Russian(Cyrillic script)\n",
      "\n",
      "\n",
      " Laos Vientiane LaoLao alphabet\n",
      "\n",
      "\n",
      " Latvia Riga Latvian\n",
      "\n",
      "\n",
      " Lebanon Beirut Arabic(Arabic script)\n",
      "French\n",
      "\n",
      "\n",
      "\n",
      " Lesotho Maseru Sesotho, English\n",
      "\n",
      "\n",
      " Liberia Monrovia English\n",
      "\n",
      "\n",
      " Libya Tripoli Berber language(Tifinagh script)Arabic(Arabic script)\n",
      "\n",
      "\n",
      " Liechtenstein Vaduz German\n",
      "\n",
      "\n",
      " Lithuania Vilnius Lithuanian\n",
      "\n",
      "\n",
      " Luxembourg Luxembourg LuxembourgishGermanFrench\n",
      "\n",
      "\n",
      " Macau[12] Macau Cantonese(Traditional Chinese characters) Portuguese \n",
      "\n",
      "\n",
      " Madagascar Antananarivo MalagasyFrench\n",
      "\n",
      "\n",
      " Malawi Lilongwe English  Chichewa \n",
      "\n",
      "\n",
      " Malaysia Kuala Lumpur Malay\n",
      "\n",
      "\n",
      " Maldives Malé Dhivehi(Thaana script)\n",
      "\n",
      "\n"
     ]
    },
    {
     "name": "stderr",
     "output_type": "stream",
     "text": [
      "C:\\Users\\91946\\AppData\\Local\\Temp\\ipykernel_14744\\1172982723.py:11: FutureWarning: The frame.append method is deprecated and will be removed from pandas in a future version. Use pandas.concat instead.\n",
      "  df=df.append(ele ,ignore_index=True)\n",
      "C:\\Users\\91946\\AppData\\Local\\Temp\\ipykernel_14744\\1172982723.py:11: FutureWarning: The frame.append method is deprecated and will be removed from pandas in a future version. Use pandas.concat instead.\n",
      "  df=df.append(ele ,ignore_index=True)\n",
      "C:\\Users\\91946\\AppData\\Local\\Temp\\ipykernel_14744\\1172982723.py:11: FutureWarning: The frame.append method is deprecated and will be removed from pandas in a future version. Use pandas.concat instead.\n",
      "  df=df.append(ele ,ignore_index=True)\n",
      "C:\\Users\\91946\\AppData\\Local\\Temp\\ipykernel_14744\\1172982723.py:11: FutureWarning: The frame.append method is deprecated and will be removed from pandas in a future version. Use pandas.concat instead.\n",
      "  df=df.append(ele ,ignore_index=True)\n",
      "C:\\Users\\91946\\AppData\\Local\\Temp\\ipykernel_14744\\1172982723.py:11: FutureWarning: The frame.append method is deprecated and will be removed from pandas in a future version. Use pandas.concat instead.\n",
      "  df=df.append(ele ,ignore_index=True)\n",
      "C:\\Users\\91946\\AppData\\Local\\Temp\\ipykernel_14744\\1172982723.py:11: FutureWarning: The frame.append method is deprecated and will be removed from pandas in a future version. Use pandas.concat instead.\n",
      "  df=df.append(ele ,ignore_index=True)\n",
      "C:\\Users\\91946\\AppData\\Local\\Temp\\ipykernel_14744\\1172982723.py:11: FutureWarning: The frame.append method is deprecated and will be removed from pandas in a future version. Use pandas.concat instead.\n",
      "  df=df.append(ele ,ignore_index=True)\n",
      "C:\\Users\\91946\\AppData\\Local\\Temp\\ipykernel_14744\\1172982723.py:11: FutureWarning: The frame.append method is deprecated and will be removed from pandas in a future version. Use pandas.concat instead.\n",
      "  df=df.append(ele ,ignore_index=True)\n",
      "C:\\Users\\91946\\AppData\\Local\\Temp\\ipykernel_14744\\1172982723.py:11: FutureWarning: The frame.append method is deprecated and will be removed from pandas in a future version. Use pandas.concat instead.\n",
      "  df=df.append(ele ,ignore_index=True)\n",
      "C:\\Users\\91946\\AppData\\Local\\Temp\\ipykernel_14744\\1172982723.py:11: FutureWarning: The frame.append method is deprecated and will be removed from pandas in a future version. Use pandas.concat instead.\n",
      "  df=df.append(ele ,ignore_index=True)\n",
      "C:\\Users\\91946\\AppData\\Local\\Temp\\ipykernel_14744\\1172982723.py:11: FutureWarning: The frame.append method is deprecated and will be removed from pandas in a future version. Use pandas.concat instead.\n",
      "  df=df.append(ele ,ignore_index=True)\n",
      "C:\\Users\\91946\\AppData\\Local\\Temp\\ipykernel_14744\\1172982723.py:11: FutureWarning: The frame.append method is deprecated and will be removed from pandas in a future version. Use pandas.concat instead.\n",
      "  df=df.append(ele ,ignore_index=True)\n",
      "C:\\Users\\91946\\AppData\\Local\\Temp\\ipykernel_14744\\1172982723.py:11: FutureWarning: The frame.append method is deprecated and will be removed from pandas in a future version. Use pandas.concat instead.\n",
      "  df=df.append(ele ,ignore_index=True)\n",
      "C:\\Users\\91946\\AppData\\Local\\Temp\\ipykernel_14744\\1172982723.py:11: FutureWarning: The frame.append method is deprecated and will be removed from pandas in a future version. Use pandas.concat instead.\n",
      "  df=df.append(ele ,ignore_index=True)\n",
      "C:\\Users\\91946\\AppData\\Local\\Temp\\ipykernel_14744\\1172982723.py:11: FutureWarning: The frame.append method is deprecated and will be removed from pandas in a future version. Use pandas.concat instead.\n",
      "  df=df.append(ele ,ignore_index=True)\n",
      "C:\\Users\\91946\\AppData\\Local\\Temp\\ipykernel_14744\\1172982723.py:11: FutureWarning: The frame.append method is deprecated and will be removed from pandas in a future version. Use pandas.concat instead.\n",
      "  df=df.append(ele ,ignore_index=True)\n",
      "C:\\Users\\91946\\AppData\\Local\\Temp\\ipykernel_14744\\1172982723.py:11: FutureWarning: The frame.append method is deprecated and will be removed from pandas in a future version. Use pandas.concat instead.\n",
      "  df=df.append(ele ,ignore_index=True)\n",
      "C:\\Users\\91946\\AppData\\Local\\Temp\\ipykernel_14744\\1172982723.py:11: FutureWarning: The frame.append method is deprecated and will be removed from pandas in a future version. Use pandas.concat instead.\n",
      "  df=df.append(ele ,ignore_index=True)\n",
      "C:\\Users\\91946\\AppData\\Local\\Temp\\ipykernel_14744\\1172982723.py:11: FutureWarning: The frame.append method is deprecated and will be removed from pandas in a future version. Use pandas.concat instead.\n",
      "  df=df.append(ele ,ignore_index=True)\n",
      "C:\\Users\\91946\\AppData\\Local\\Temp\\ipykernel_14744\\1172982723.py:11: FutureWarning: The frame.append method is deprecated and will be removed from pandas in a future version. Use pandas.concat instead.\n",
      "  df=df.append(ele ,ignore_index=True)\n",
      "C:\\Users\\91946\\AppData\\Local\\Temp\\ipykernel_14744\\1172982723.py:11: FutureWarning: The frame.append method is deprecated and will be removed from pandas in a future version. Use pandas.concat instead.\n",
      "  df=df.append(ele ,ignore_index=True)\n",
      "C:\\Users\\91946\\AppData\\Local\\Temp\\ipykernel_14744\\1172982723.py:11: FutureWarning: The frame.append method is deprecated and will be removed from pandas in a future version. Use pandas.concat instead.\n",
      "  df=df.append(ele ,ignore_index=True)\n",
      "C:\\Users\\91946\\AppData\\Local\\Temp\\ipykernel_14744\\1172982723.py:11: FutureWarning: The frame.append method is deprecated and will be removed from pandas in a future version. Use pandas.concat instead.\n",
      "  df=df.append(ele ,ignore_index=True)\n",
      "C:\\Users\\91946\\AppData\\Local\\Temp\\ipykernel_14744\\1172982723.py:11: FutureWarning: The frame.append method is deprecated and will be removed from pandas in a future version. Use pandas.concat instead.\n",
      "  df=df.append(ele ,ignore_index=True)\n",
      "C:\\Users\\91946\\AppData\\Local\\Temp\\ipykernel_14744\\1172982723.py:11: FutureWarning: The frame.append method is deprecated and will be removed from pandas in a future version. Use pandas.concat instead.\n",
      "  df=df.append(ele ,ignore_index=True)\n",
      "C:\\Users\\91946\\AppData\\Local\\Temp\\ipykernel_14744\\1172982723.py:11: FutureWarning: The frame.append method is deprecated and will be removed from pandas in a future version. Use pandas.concat instead.\n",
      "  df=df.append(ele ,ignore_index=True)\n",
      "C:\\Users\\91946\\AppData\\Local\\Temp\\ipykernel_14744\\1172982723.py:11: FutureWarning: The frame.append method is deprecated and will be removed from pandas in a future version. Use pandas.concat instead.\n",
      "  df=df.append(ele ,ignore_index=True)\n",
      "C:\\Users\\91946\\AppData\\Local\\Temp\\ipykernel_14744\\1172982723.py:11: FutureWarning: The frame.append method is deprecated and will be removed from pandas in a future version. Use pandas.concat instead.\n",
      "  df=df.append(ele ,ignore_index=True)\n",
      "C:\\Users\\91946\\AppData\\Local\\Temp\\ipykernel_14744\\1172982723.py:11: FutureWarning: The frame.append method is deprecated and will be removed from pandas in a future version. Use pandas.concat instead.\n",
      "  df=df.append(ele ,ignore_index=True)\n",
      "C:\\Users\\91946\\AppData\\Local\\Temp\\ipykernel_14744\\1172982723.py:11: FutureWarning: The frame.append method is deprecated and will be removed from pandas in a future version. Use pandas.concat instead.\n",
      "  df=df.append(ele ,ignore_index=True)\n",
      "C:\\Users\\91946\\AppData\\Local\\Temp\\ipykernel_14744\\1172982723.py:11: FutureWarning: The frame.append method is deprecated and will be removed from pandas in a future version. Use pandas.concat instead.\n",
      "  df=df.append(ele ,ignore_index=True)\n",
      "C:\\Users\\91946\\AppData\\Local\\Temp\\ipykernel_14744\\1172982723.py:11: FutureWarning: The frame.append method is deprecated and will be removed from pandas in a future version. Use pandas.concat instead.\n",
      "  df=df.append(ele ,ignore_index=True)\n",
      "C:\\Users\\91946\\AppData\\Local\\Temp\\ipykernel_14744\\1172982723.py:11: FutureWarning: The frame.append method is deprecated and will be removed from pandas in a future version. Use pandas.concat instead.\n",
      "  df=df.append(ele ,ignore_index=True)\n",
      "C:\\Users\\91946\\AppData\\Local\\Temp\\ipykernel_14744\\1172982723.py:11: FutureWarning: The frame.append method is deprecated and will be removed from pandas in a future version. Use pandas.concat instead.\n",
      "  df=df.append(ele ,ignore_index=True)\n",
      "C:\\Users\\91946\\AppData\\Local\\Temp\\ipykernel_14744\\1172982723.py:11: FutureWarning: The frame.append method is deprecated and will be removed from pandas in a future version. Use pandas.concat instead.\n",
      "  df=df.append(ele ,ignore_index=True)\n",
      "C:\\Users\\91946\\AppData\\Local\\Temp\\ipykernel_14744\\1172982723.py:11: FutureWarning: The frame.append method is deprecated and will be removed from pandas in a future version. Use pandas.concat instead.\n",
      "  df=df.append(ele ,ignore_index=True)\n",
      "C:\\Users\\91946\\AppData\\Local\\Temp\\ipykernel_14744\\1172982723.py:11: FutureWarning: The frame.append method is deprecated and will be removed from pandas in a future version. Use pandas.concat instead.\n",
      "  df=df.append(ele ,ignore_index=True)\n"
     ]
    },
    {
     "name": "stdout",
     "output_type": "stream",
     "text": [
      " Mali Bamako FrenchBambara\n",
      "\n",
      "\n",
      " Malta Valletta Maltese  English\n",
      "\n",
      "\n",
      " Marshall Islands Majuro English Marshallese\n",
      "\n",
      "\n",
      " Martinique[9] Fort-de-France French\n",
      "\n",
      "\n",
      " Mauritania Nouakchott Berber language(Tifinagh script)Arabic(Arabic script)\n",
      "\n",
      "\n",
      " Mauritius Port Louis EnglishFrenchMauritian Creole\n",
      "\n",
      "\n",
      " Mayotte[9] Mamoudzou FrenchShimaore\n",
      "\n",
      "\n",
      " Mexico Mexico City SpanishNahuatl\n",
      "\n",
      "\n",
      " Federated States of Micronesia Palikir English\n",
      "\n",
      "\n",
      " Moldova Chișinău Romanian\n",
      "\n",
      "\n",
      " Monaco Monaco French  Monégasque\n",
      "\n",
      "\n",
      " Mongolia Ulaanbaatar Mongolian(Cyrillic script)(Mongol script)\n",
      "\n",
      "\n",
      " Montenegro Podgorica Montenegrin\n",
      "\n",
      "\n",
      " Montserrat[2] Brades Estate[15] English\n",
      "\n",
      "\n",
      " Morocco Rabat Berber language(Tifinagh script)Arabic(Arabic script)\n",
      "\n",
      "\n",
      " Mozambique Maputo Portuguese\n",
      "\n",
      "\n",
      " Myanmar (or Burma) Naypyidaw Burmese(Burmese alphabet)\n",
      "\n",
      "\n",
      " Namibia Windhoek EnglishGermanAfrikaansDamara/NamaHerero\n",
      "\n",
      "\n",
      " Nauru Yaren (de facto)[16] EnglishNauruan\n",
      "\n",
      "\n",
      " Nepal Kathmandu NepaleseDevanagari\n",
      "\n",
      "\n",
      " Netherlands Amsterdam DutchWest Frisian\n",
      "\n",
      "\n",
      " New Caledonia[17] Nouméa French\n",
      "\n",
      "\n",
      " New Zealand[18] Wellington EnglishMāori\n",
      "\n",
      "\n",
      " Nicaragua Managua Spanish\n",
      "\n",
      "\n",
      " Niger Niamey French\n",
      "\n",
      "\n",
      " Nigeria Abuja English Hausa Igbo Yoruba\n",
      "\n",
      "\n",
      " Niue[7] Alofi NiueanEnglish\n",
      "\n",
      "\n",
      " Norfolk Island[6] Kingston English Norfuk\n",
      "\n",
      "\n",
      " North Macedonia Skopje Macedonian(Cyrillic script)Albanian\n",
      "\n",
      "\n",
      " Northern Mariana Islands[1] Saipan English Chamorro\n",
      "\n",
      "\n",
      " Norway Oslo Norwegian BokmålNorwegian NynorskNorthern SamiLule SamiSouthern Sami\n",
      "\n",
      "\n",
      " Oman Muscat Arabic(Arabic script)\n",
      "\n",
      "\n",
      " Pakistan Islamabad EnglishUrdu(Arabic script [Nastaʿlīq hand])\n",
      "\n",
      "\n",
      " Palau Ngerulmud EnglishPalauan\n",
      "\n",
      "\n",
      " Palestine[14] East Jerusalem (declared)  Ramallah (administrative capital)[b] Arabic(Arabic script)\n",
      "\n",
      "\n",
      " Panama Panama City Spanish\n",
      "\n",
      "\n",
      " Papua New Guinea Port Moresby EnglishTok PisinHiri Motu\n",
      "\n",
      "\n"
     ]
    },
    {
     "name": "stderr",
     "output_type": "stream",
     "text": [
      "C:\\Users\\91946\\AppData\\Local\\Temp\\ipykernel_14744\\1172982723.py:11: FutureWarning: The frame.append method is deprecated and will be removed from pandas in a future version. Use pandas.concat instead.\n",
      "  df=df.append(ele ,ignore_index=True)\n",
      "C:\\Users\\91946\\AppData\\Local\\Temp\\ipykernel_14744\\1172982723.py:11: FutureWarning: The frame.append method is deprecated and will be removed from pandas in a future version. Use pandas.concat instead.\n",
      "  df=df.append(ele ,ignore_index=True)\n",
      "C:\\Users\\91946\\AppData\\Local\\Temp\\ipykernel_14744\\1172982723.py:11: FutureWarning: The frame.append method is deprecated and will be removed from pandas in a future version. Use pandas.concat instead.\n",
      "  df=df.append(ele ,ignore_index=True)\n",
      "C:\\Users\\91946\\AppData\\Local\\Temp\\ipykernel_14744\\1172982723.py:11: FutureWarning: The frame.append method is deprecated and will be removed from pandas in a future version. Use pandas.concat instead.\n",
      "  df=df.append(ele ,ignore_index=True)\n",
      "C:\\Users\\91946\\AppData\\Local\\Temp\\ipykernel_14744\\1172982723.py:11: FutureWarning: The frame.append method is deprecated and will be removed from pandas in a future version. Use pandas.concat instead.\n",
      "  df=df.append(ele ,ignore_index=True)\n",
      "C:\\Users\\91946\\AppData\\Local\\Temp\\ipykernel_14744\\1172982723.py:11: FutureWarning: The frame.append method is deprecated and will be removed from pandas in a future version. Use pandas.concat instead.\n",
      "  df=df.append(ele ,ignore_index=True)\n",
      "C:\\Users\\91946\\AppData\\Local\\Temp\\ipykernel_14744\\1172982723.py:11: FutureWarning: The frame.append method is deprecated and will be removed from pandas in a future version. Use pandas.concat instead.\n",
      "  df=df.append(ele ,ignore_index=True)\n",
      "C:\\Users\\91946\\AppData\\Local\\Temp\\ipykernel_14744\\1172982723.py:11: FutureWarning: The frame.append method is deprecated and will be removed from pandas in a future version. Use pandas.concat instead.\n",
      "  df=df.append(ele ,ignore_index=True)\n",
      "C:\\Users\\91946\\AppData\\Local\\Temp\\ipykernel_14744\\1172982723.py:11: FutureWarning: The frame.append method is deprecated and will be removed from pandas in a future version. Use pandas.concat instead.\n",
      "  df=df.append(ele ,ignore_index=True)\n",
      "C:\\Users\\91946\\AppData\\Local\\Temp\\ipykernel_14744\\1172982723.py:11: FutureWarning: The frame.append method is deprecated and will be removed from pandas in a future version. Use pandas.concat instead.\n",
      "  df=df.append(ele ,ignore_index=True)\n",
      "C:\\Users\\91946\\AppData\\Local\\Temp\\ipykernel_14744\\1172982723.py:11: FutureWarning: The frame.append method is deprecated and will be removed from pandas in a future version. Use pandas.concat instead.\n",
      "  df=df.append(ele ,ignore_index=True)\n",
      "C:\\Users\\91946\\AppData\\Local\\Temp\\ipykernel_14744\\1172982723.py:11: FutureWarning: The frame.append method is deprecated and will be removed from pandas in a future version. Use pandas.concat instead.\n",
      "  df=df.append(ele ,ignore_index=True)\n",
      "C:\\Users\\91946\\AppData\\Local\\Temp\\ipykernel_14744\\1172982723.py:11: FutureWarning: The frame.append method is deprecated and will be removed from pandas in a future version. Use pandas.concat instead.\n",
      "  df=df.append(ele ,ignore_index=True)\n",
      "C:\\Users\\91946\\AppData\\Local\\Temp\\ipykernel_14744\\1172982723.py:11: FutureWarning: The frame.append method is deprecated and will be removed from pandas in a future version. Use pandas.concat instead.\n",
      "  df=df.append(ele ,ignore_index=True)\n",
      "C:\\Users\\91946\\AppData\\Local\\Temp\\ipykernel_14744\\1172982723.py:11: FutureWarning: The frame.append method is deprecated and will be removed from pandas in a future version. Use pandas.concat instead.\n",
      "  df=df.append(ele ,ignore_index=True)\n",
      "C:\\Users\\91946\\AppData\\Local\\Temp\\ipykernel_14744\\1172982723.py:11: FutureWarning: The frame.append method is deprecated and will be removed from pandas in a future version. Use pandas.concat instead.\n",
      "  df=df.append(ele ,ignore_index=True)\n",
      "C:\\Users\\91946\\AppData\\Local\\Temp\\ipykernel_14744\\1172982723.py:11: FutureWarning: The frame.append method is deprecated and will be removed from pandas in a future version. Use pandas.concat instead.\n",
      "  df=df.append(ele ,ignore_index=True)\n",
      "C:\\Users\\91946\\AppData\\Local\\Temp\\ipykernel_14744\\1172982723.py:11: FutureWarning: The frame.append method is deprecated and will be removed from pandas in a future version. Use pandas.concat instead.\n",
      "  df=df.append(ele ,ignore_index=True)\n",
      "C:\\Users\\91946\\AppData\\Local\\Temp\\ipykernel_14744\\1172982723.py:11: FutureWarning: The frame.append method is deprecated and will be removed from pandas in a future version. Use pandas.concat instead.\n",
      "  df=df.append(ele ,ignore_index=True)\n",
      "C:\\Users\\91946\\AppData\\Local\\Temp\\ipykernel_14744\\1172982723.py:11: FutureWarning: The frame.append method is deprecated and will be removed from pandas in a future version. Use pandas.concat instead.\n",
      "  df=df.append(ele ,ignore_index=True)\n",
      "C:\\Users\\91946\\AppData\\Local\\Temp\\ipykernel_14744\\1172982723.py:11: FutureWarning: The frame.append method is deprecated and will be removed from pandas in a future version. Use pandas.concat instead.\n",
      "  df=df.append(ele ,ignore_index=True)\n",
      "C:\\Users\\91946\\AppData\\Local\\Temp\\ipykernel_14744\\1172982723.py:11: FutureWarning: The frame.append method is deprecated and will be removed from pandas in a future version. Use pandas.concat instead.\n",
      "  df=df.append(ele ,ignore_index=True)\n",
      "C:\\Users\\91946\\AppData\\Local\\Temp\\ipykernel_14744\\1172982723.py:11: FutureWarning: The frame.append method is deprecated and will be removed from pandas in a future version. Use pandas.concat instead.\n",
      "  df=df.append(ele ,ignore_index=True)\n",
      "C:\\Users\\91946\\AppData\\Local\\Temp\\ipykernel_14744\\1172982723.py:11: FutureWarning: The frame.append method is deprecated and will be removed from pandas in a future version. Use pandas.concat instead.\n",
      "  df=df.append(ele ,ignore_index=True)\n",
      "C:\\Users\\91946\\AppData\\Local\\Temp\\ipykernel_14744\\1172982723.py:11: FutureWarning: The frame.append method is deprecated and will be removed from pandas in a future version. Use pandas.concat instead.\n",
      "  df=df.append(ele ,ignore_index=True)\n",
      "C:\\Users\\91946\\AppData\\Local\\Temp\\ipykernel_14744\\1172982723.py:11: FutureWarning: The frame.append method is deprecated and will be removed from pandas in a future version. Use pandas.concat instead.\n",
      "  df=df.append(ele ,ignore_index=True)\n",
      "C:\\Users\\91946\\AppData\\Local\\Temp\\ipykernel_14744\\1172982723.py:11: FutureWarning: The frame.append method is deprecated and will be removed from pandas in a future version. Use pandas.concat instead.\n",
      "  df=df.append(ele ,ignore_index=True)\n",
      "C:\\Users\\91946\\AppData\\Local\\Temp\\ipykernel_14744\\1172982723.py:11: FutureWarning: The frame.append method is deprecated and will be removed from pandas in a future version. Use pandas.concat instead.\n",
      "  df=df.append(ele ,ignore_index=True)\n",
      "C:\\Users\\91946\\AppData\\Local\\Temp\\ipykernel_14744\\1172982723.py:11: FutureWarning: The frame.append method is deprecated and will be removed from pandas in a future version. Use pandas.concat instead.\n",
      "  df=df.append(ele ,ignore_index=True)\n",
      "C:\\Users\\91946\\AppData\\Local\\Temp\\ipykernel_14744\\1172982723.py:11: FutureWarning: The frame.append method is deprecated and will be removed from pandas in a future version. Use pandas.concat instead.\n",
      "  df=df.append(ele ,ignore_index=True)\n",
      "C:\\Users\\91946\\AppData\\Local\\Temp\\ipykernel_14744\\1172982723.py:11: FutureWarning: The frame.append method is deprecated and will be removed from pandas in a future version. Use pandas.concat instead.\n",
      "  df=df.append(ele ,ignore_index=True)\n",
      "C:\\Users\\91946\\AppData\\Local\\Temp\\ipykernel_14744\\1172982723.py:11: FutureWarning: The frame.append method is deprecated and will be removed from pandas in a future version. Use pandas.concat instead.\n",
      "  df=df.append(ele ,ignore_index=True)\n",
      "C:\\Users\\91946\\AppData\\Local\\Temp\\ipykernel_14744\\1172982723.py:11: FutureWarning: The frame.append method is deprecated and will be removed from pandas in a future version. Use pandas.concat instead.\n",
      "  df=df.append(ele ,ignore_index=True)\n",
      "C:\\Users\\91946\\AppData\\Local\\Temp\\ipykernel_14744\\1172982723.py:11: FutureWarning: The frame.append method is deprecated and will be removed from pandas in a future version. Use pandas.concat instead.\n",
      "  df=df.append(ele ,ignore_index=True)\n"
     ]
    },
    {
     "name": "stdout",
     "output_type": "stream",
     "text": [
      " Paraguay Asunción SpanishGuaraní\n",
      "\n",
      "\n",
      " Peru Lima SpanishQuechua/Aymara\n",
      "\n",
      "\n",
      " Philippines Manila FilipinoEnglish\n",
      "\n",
      "\n",
      " Pitcairn Islands[2] Adamstown English Pitcairnese\n",
      "\n",
      "\n",
      " Poland Warsaw Polish\n",
      "\n",
      "\n",
      " Portugal Lisbon Portuguese\n",
      "\n",
      "\n",
      " Puerto Rico[1] San Juan English, Spanish\n",
      "\n",
      "\n",
      " Qatar Doha Arabic(Arabic script)\n",
      "\n",
      "\n",
      " Réunion[9] Saint-Denis French\n",
      "\n",
      "\n",
      " Romania Bucharest Romanian\n",
      "\n",
      "\n",
      " Russia Moscow Russian(Cyrillic script)\n",
      "\n",
      "\n",
      " Rwanda Kigali French, Kinyarwanda, Swahili, English\n",
      "\n",
      "\n",
      " Sahrawi Arab Democratic Republic[14] Laayoune Arabic(Arabic script)SpanishFrench\n",
      "\n",
      "\n",
      " Saint Barthélemy[10] Gustavia French\n",
      "\n",
      "\n",
      " Saint Helena, Ascension and Tristan da Cunha[2] Jamestown English\n",
      "\n",
      "\n",
      " Saint Kitts and Nevis Basseterre English\n",
      "\n",
      "\n",
      " Saint Martin[10] Marigot French\n",
      "\n",
      "\n",
      " Saint Lucia Castries English\n",
      "\n",
      "\n",
      " Saint Pierre and Miquelon[10] Saint-Pierre French\n",
      "\n",
      "\n",
      " Saint Vincent and the Grenadines Kingstown English\n",
      "\n",
      "\n",
      " Samoa Apia EnglishSamoan\n",
      "\n",
      "\n",
      " San Marino San Marino Italian\n",
      "\n",
      "\n",
      " São Tomé and Príncipe São Tomé Portuguese\n",
      "\n",
      "\n",
      " Saudi Arabia Riyadh Arabic(Arabic script)\n",
      "\n",
      "\n",
      " Senegal Dakar FrenchWolof\n",
      "\n",
      "\n",
      " Serbia Belgrade Serbian(Cyrillic script)\n",
      "\n",
      "\n",
      " Seychelles Victoria Seychellois CreoleFrenchEnglish\n",
      "\n",
      "\n",
      " Sierra Leone Freetown English\n",
      "\n",
      "\n",
      " Singapore Singapore MalayEnglishMandarin Chinese(Simplified Chinese characters)Tamil(Tamil script)\n",
      "\n",
      "\n",
      " Sint Maarten[3] Philipsburg DutchEnglish\n",
      "\n",
      "\n",
      " Slovakia Bratislava Slovak\n",
      "\n",
      "\n",
      " Slovenia Ljubljana Slovene\n",
      "\n",
      "\n",
      " Solomon Islands Honiara EnglishNeo-Solomonic\n",
      "\n",
      "\n",
      " Somalia Mogadishu SomaliArabic(Arabic script)\n",
      "\n",
      "\n"
     ]
    },
    {
     "name": "stderr",
     "output_type": "stream",
     "text": [
      "C:\\Users\\91946\\AppData\\Local\\Temp\\ipykernel_14744\\1172982723.py:11: FutureWarning: The frame.append method is deprecated and will be removed from pandas in a future version. Use pandas.concat instead.\n",
      "  df=df.append(ele ,ignore_index=True)\n",
      "C:\\Users\\91946\\AppData\\Local\\Temp\\ipykernel_14744\\1172982723.py:11: FutureWarning: The frame.append method is deprecated and will be removed from pandas in a future version. Use pandas.concat instead.\n",
      "  df=df.append(ele ,ignore_index=True)\n",
      "C:\\Users\\91946\\AppData\\Local\\Temp\\ipykernel_14744\\1172982723.py:11: FutureWarning: The frame.append method is deprecated and will be removed from pandas in a future version. Use pandas.concat instead.\n",
      "  df=df.append(ele ,ignore_index=True)\n",
      "C:\\Users\\91946\\AppData\\Local\\Temp\\ipykernel_14744\\1172982723.py:11: FutureWarning: The frame.append method is deprecated and will be removed from pandas in a future version. Use pandas.concat instead.\n",
      "  df=df.append(ele ,ignore_index=True)\n",
      "C:\\Users\\91946\\AppData\\Local\\Temp\\ipykernel_14744\\1172982723.py:11: FutureWarning: The frame.append method is deprecated and will be removed from pandas in a future version. Use pandas.concat instead.\n",
      "  df=df.append(ele ,ignore_index=True)\n",
      "C:\\Users\\91946\\AppData\\Local\\Temp\\ipykernel_14744\\1172982723.py:11: FutureWarning: The frame.append method is deprecated and will be removed from pandas in a future version. Use pandas.concat instead.\n",
      "  df=df.append(ele ,ignore_index=True)\n",
      "C:\\Users\\91946\\AppData\\Local\\Temp\\ipykernel_14744\\1172982723.py:11: FutureWarning: The frame.append method is deprecated and will be removed from pandas in a future version. Use pandas.concat instead.\n",
      "  df=df.append(ele ,ignore_index=True)\n",
      "C:\\Users\\91946\\AppData\\Local\\Temp\\ipykernel_14744\\1172982723.py:11: FutureWarning: The frame.append method is deprecated and will be removed from pandas in a future version. Use pandas.concat instead.\n",
      "  df=df.append(ele ,ignore_index=True)\n",
      "C:\\Users\\91946\\AppData\\Local\\Temp\\ipykernel_14744\\1172982723.py:11: FutureWarning: The frame.append method is deprecated and will be removed from pandas in a future version. Use pandas.concat instead.\n",
      "  df=df.append(ele ,ignore_index=True)\n",
      "C:\\Users\\91946\\AppData\\Local\\Temp\\ipykernel_14744\\1172982723.py:11: FutureWarning: The frame.append method is deprecated and will be removed from pandas in a future version. Use pandas.concat instead.\n",
      "  df=df.append(ele ,ignore_index=True)\n",
      "C:\\Users\\91946\\AppData\\Local\\Temp\\ipykernel_14744\\1172982723.py:11: FutureWarning: The frame.append method is deprecated and will be removed from pandas in a future version. Use pandas.concat instead.\n",
      "  df=df.append(ele ,ignore_index=True)\n",
      "C:\\Users\\91946\\AppData\\Local\\Temp\\ipykernel_14744\\1172982723.py:11: FutureWarning: The frame.append method is deprecated and will be removed from pandas in a future version. Use pandas.concat instead.\n",
      "  df=df.append(ele ,ignore_index=True)\n",
      "C:\\Users\\91946\\AppData\\Local\\Temp\\ipykernel_14744\\1172982723.py:11: FutureWarning: The frame.append method is deprecated and will be removed from pandas in a future version. Use pandas.concat instead.\n",
      "  df=df.append(ele ,ignore_index=True)\n",
      "C:\\Users\\91946\\AppData\\Local\\Temp\\ipykernel_14744\\1172982723.py:11: FutureWarning: The frame.append method is deprecated and will be removed from pandas in a future version. Use pandas.concat instead.\n",
      "  df=df.append(ele ,ignore_index=True)\n",
      "C:\\Users\\91946\\AppData\\Local\\Temp\\ipykernel_14744\\1172982723.py:11: FutureWarning: The frame.append method is deprecated and will be removed from pandas in a future version. Use pandas.concat instead.\n",
      "  df=df.append(ele ,ignore_index=True)\n",
      "C:\\Users\\91946\\AppData\\Local\\Temp\\ipykernel_14744\\1172982723.py:11: FutureWarning: The frame.append method is deprecated and will be removed from pandas in a future version. Use pandas.concat instead.\n",
      "  df=df.append(ele ,ignore_index=True)\n",
      "C:\\Users\\91946\\AppData\\Local\\Temp\\ipykernel_14744\\1172982723.py:11: FutureWarning: The frame.append method is deprecated and will be removed from pandas in a future version. Use pandas.concat instead.\n",
      "  df=df.append(ele ,ignore_index=True)\n",
      "C:\\Users\\91946\\AppData\\Local\\Temp\\ipykernel_14744\\1172982723.py:11: FutureWarning: The frame.append method is deprecated and will be removed from pandas in a future version. Use pandas.concat instead.\n",
      "  df=df.append(ele ,ignore_index=True)\n",
      "C:\\Users\\91946\\AppData\\Local\\Temp\\ipykernel_14744\\1172982723.py:11: FutureWarning: The frame.append method is deprecated and will be removed from pandas in a future version. Use pandas.concat instead.\n",
      "  df=df.append(ele ,ignore_index=True)\n",
      "C:\\Users\\91946\\AppData\\Local\\Temp\\ipykernel_14744\\1172982723.py:11: FutureWarning: The frame.append method is deprecated and will be removed from pandas in a future version. Use pandas.concat instead.\n",
      "  df=df.append(ele ,ignore_index=True)\n",
      "C:\\Users\\91946\\AppData\\Local\\Temp\\ipykernel_14744\\1172982723.py:11: FutureWarning: The frame.append method is deprecated and will be removed from pandas in a future version. Use pandas.concat instead.\n",
      "  df=df.append(ele ,ignore_index=True)\n",
      "C:\\Users\\91946\\AppData\\Local\\Temp\\ipykernel_14744\\1172982723.py:11: FutureWarning: The frame.append method is deprecated and will be removed from pandas in a future version. Use pandas.concat instead.\n",
      "  df=df.append(ele ,ignore_index=True)\n",
      "C:\\Users\\91946\\AppData\\Local\\Temp\\ipykernel_14744\\1172982723.py:11: FutureWarning: The frame.append method is deprecated and will be removed from pandas in a future version. Use pandas.concat instead.\n",
      "  df=df.append(ele ,ignore_index=True)\n",
      "C:\\Users\\91946\\AppData\\Local\\Temp\\ipykernel_14744\\1172982723.py:11: FutureWarning: The frame.append method is deprecated and will be removed from pandas in a future version. Use pandas.concat instead.\n",
      "  df=df.append(ele ,ignore_index=True)\n",
      "C:\\Users\\91946\\AppData\\Local\\Temp\\ipykernel_14744\\1172982723.py:11: FutureWarning: The frame.append method is deprecated and will be removed from pandas in a future version. Use pandas.concat instead.\n",
      "  df=df.append(ele ,ignore_index=True)\n",
      "C:\\Users\\91946\\AppData\\Local\\Temp\\ipykernel_14744\\1172982723.py:11: FutureWarning: The frame.append method is deprecated and will be removed from pandas in a future version. Use pandas.concat instead.\n",
      "  df=df.append(ele ,ignore_index=True)\n",
      "C:\\Users\\91946\\AppData\\Local\\Temp\\ipykernel_14744\\1172982723.py:11: FutureWarning: The frame.append method is deprecated and will be removed from pandas in a future version. Use pandas.concat instead.\n",
      "  df=df.append(ele ,ignore_index=True)\n",
      "C:\\Users\\91946\\AppData\\Local\\Temp\\ipykernel_14744\\1172982723.py:11: FutureWarning: The frame.append method is deprecated and will be removed from pandas in a future version. Use pandas.concat instead.\n",
      "  df=df.append(ele ,ignore_index=True)\n",
      "C:\\Users\\91946\\AppData\\Local\\Temp\\ipykernel_14744\\1172982723.py:11: FutureWarning: The frame.append method is deprecated and will be removed from pandas in a future version. Use pandas.concat instead.\n",
      "  df=df.append(ele ,ignore_index=True)\n",
      "C:\\Users\\91946\\AppData\\Local\\Temp\\ipykernel_14744\\1172982723.py:11: FutureWarning: The frame.append method is deprecated and will be removed from pandas in a future version. Use pandas.concat instead.\n",
      "  df=df.append(ele ,ignore_index=True)\n",
      "C:\\Users\\91946\\AppData\\Local\\Temp\\ipykernel_14744\\1172982723.py:11: FutureWarning: The frame.append method is deprecated and will be removed from pandas in a future version. Use pandas.concat instead.\n",
      "  df=df.append(ele ,ignore_index=True)\n",
      "C:\\Users\\91946\\AppData\\Local\\Temp\\ipykernel_14744\\1172982723.py:11: FutureWarning: The frame.append method is deprecated and will be removed from pandas in a future version. Use pandas.concat instead.\n",
      "  df=df.append(ele ,ignore_index=True)\n",
      "C:\\Users\\91946\\AppData\\Local\\Temp\\ipykernel_14744\\1172982723.py:11: FutureWarning: The frame.append method is deprecated and will be removed from pandas in a future version. Use pandas.concat instead.\n",
      "  df=df.append(ele ,ignore_index=True)\n",
      "C:\\Users\\91946\\AppData\\Local\\Temp\\ipykernel_14744\\1172982723.py:11: FutureWarning: The frame.append method is deprecated and will be removed from pandas in a future version. Use pandas.concat instead.\n",
      "  df=df.append(ele ,ignore_index=True)\n",
      "C:\\Users\\91946\\AppData\\Local\\Temp\\ipykernel_14744\\1172982723.py:11: FutureWarning: The frame.append method is deprecated and will be removed from pandas in a future version. Use pandas.concat instead.\n",
      "  df=df.append(ele ,ignore_index=True)\n"
     ]
    },
    {
     "name": "stdout",
     "output_type": "stream",
     "text": [
      " South Africa Pretoria (administrative capital), Cape Town (legislative capital), Bloemfontein, (judicial capital) EnglishAfrikaansisiZuluisiXhosaPediSothoTswanaVendaTsongaSwaziNdebele\n",
      "\n",
      "\n",
      " South Sudan Juba English Swahili  Dinka\n",
      "\n",
      "\n",
      " Spain Madrid Spanish, GalicianCatalanBasqueAranese, Galician (R)\n",
      "\n",
      "\n",
      " Sri Lanka Sri Jayawardenapura Kotte SinhalaTamil\n",
      "\n",
      "\n",
      " Sudan Khartoum Arabic(Arabic script)\n",
      "\n",
      "\n",
      " Suriname Paramaribo Dutch\n",
      "\n",
      "\n",
      " Svalbard[19] Longyearbyen Norwegian\n",
      "\n",
      "\n",
      " Sweden Stockholm Swedish\n",
      "\n",
      "\n",
      " Switzerland Bern (de facto)[16] GermanFrenchItalianRomansh\n",
      "\n",
      "\n",
      " Syria Damascus Arabic(Arabic script)\n",
      "\n",
      "\n",
      " Taiwan (Republic of China)[14] Taipei Chinese(Traditional Chinese characters)\n",
      "\n",
      "\n",
      " Tajikistan Dushanbe Tajiki-Persian(Cyrillic)\n",
      "\n",
      "\n",
      " Tanzania Dodoma English, Swahili\n",
      "\n",
      "\n",
      " Thailand Bangkok Thai(Thai script)\n",
      "\n",
      "\n",
      " Togo Lomé French Ewe  Kabiye\n",
      "\n",
      "\n",
      " Tokelau[20]  English, Tokelauan\n",
      "\n",
      "\n",
      " Tonga Nukuʻalofa Tongan, English\n",
      "\n",
      "\n",
      " Trinidad and Tobago Port of Spain English\n",
      "\n",
      "\n",
      " Tunisia Tunis Berber language(Tifinagh script)Arabic(Arabic script)\n",
      "\n",
      "\n",
      " Turkey Ankara Turkish\n",
      "\n",
      "\n",
      " Turkmenistan Ashgabat Turkmen\n",
      "\n",
      "\n",
      " Turks and Caicos Islands[2] Cockburn Town English\n",
      "\n",
      "\n",
      " Tuvalu Fongafale (in Funafuti) English, Tuvaluan\n",
      "\n",
      "\n",
      " Uganda Kampala English, Swahili\n",
      "\n",
      "\n",
      " Ukraine Kyiv Ukrainian(Cyrillic script)\n",
      "\n",
      "\n",
      " United Arab Emirates Abu Dhabi Arabic(Arabic script)\n",
      "\n",
      "\n",
      " United Kingdom London EnglishWelshScotsScots GaelicIrishCornish\n",
      "\n",
      "\n",
      " United States Washington, D.C. EnglishSpanishCajun FrenchIndigenousHawaiian\n",
      "\n",
      "\n",
      " United States Virgin Islands[1] Charlotte Amalie English\n",
      "\n",
      "\n",
      " Uruguay Montevideo Spanish\n",
      "\n",
      "\n",
      " Uzbekistan Tashkent Uzbek(Cyrillic script)\n",
      "\n",
      "\n",
      " Vanuatu Port Vila French\n",
      "\n",
      "\n",
      " Vatican City Vatican City LatinItalian\n",
      "\n",
      "\n",
      " Venezuela Caracas Spanish\n",
      "\n",
      "\n",
      " Vietnam Hanoi Vietnamese\n",
      "\n",
      "\n",
      " Wallis and Futuna[10] Mata Utu FrenchWallisianFutunan\n",
      "\n",
      "\n",
      " Yemen Sana'a Arabic(Arabic script)\n",
      "\n",
      "\n",
      " Zambia Lusaka English, Bemba, Chewa\n",
      "\n",
      "\n",
      " Zimbabwe Harare English, Shona\n",
      "\n",
      "\n"
     ]
    },
    {
     "name": "stderr",
     "output_type": "stream",
     "text": [
      "C:\\Users\\91946\\AppData\\Local\\Temp\\ipykernel_14744\\1172982723.py:11: FutureWarning: The frame.append method is deprecated and will be removed from pandas in a future version. Use pandas.concat instead.\n",
      "  df=df.append(ele ,ignore_index=True)\n",
      "C:\\Users\\91946\\AppData\\Local\\Temp\\ipykernel_14744\\1172982723.py:11: FutureWarning: The frame.append method is deprecated and will be removed from pandas in a future version. Use pandas.concat instead.\n",
      "  df=df.append(ele ,ignore_index=True)\n",
      "C:\\Users\\91946\\AppData\\Local\\Temp\\ipykernel_14744\\1172982723.py:11: FutureWarning: The frame.append method is deprecated and will be removed from pandas in a future version. Use pandas.concat instead.\n",
      "  df=df.append(ele ,ignore_index=True)\n",
      "C:\\Users\\91946\\AppData\\Local\\Temp\\ipykernel_14744\\1172982723.py:11: FutureWarning: The frame.append method is deprecated and will be removed from pandas in a future version. Use pandas.concat instead.\n",
      "  df=df.append(ele ,ignore_index=True)\n"
     ]
    }
   ],
   "source": [
    "#getting information from all tables that is letters wise \n",
    "for one_table in all_tables:\n",
    "    all_rows=one_table.find_all('tr')[1:]\n",
    "    for tr in all_rows:\n",
    "        all_td=tr.find_all('td')\n",
    "\n",
    "        country=all_td[0].text\n",
    "        capital=all_td[1].text\n",
    "        language=all_td[-1].text\n",
    "        ele={'Country' : country , 'Capital':capital , 'Language': language}\n",
    "        df=df.append(ele ,ignore_index=True)\n",
    "        print(country , capital , language)\n",
    "        print()"
   ]
  },
  {
   "cell_type": "code",
   "execution_count": 115,
   "metadata": {},
   "outputs": [
    {
     "data": {
      "text/html": [
       "<div>\n",
       "<style scoped>\n",
       "    .dataframe tbody tr th:only-of-type {\n",
       "        vertical-align: middle;\n",
       "    }\n",
       "\n",
       "    .dataframe tbody tr th {\n",
       "        vertical-align: top;\n",
       "    }\n",
       "\n",
       "    .dataframe thead th {\n",
       "        text-align: right;\n",
       "    }\n",
       "</style>\n",
       "<table border=\"1\" class=\"dataframe\">\n",
       "  <thead>\n",
       "    <tr style=\"text-align: right;\">\n",
       "      <th></th>\n",
       "      <th>Country</th>\n",
       "      <th>Capital</th>\n",
       "      <th>Language</th>\n",
       "    </tr>\n",
       "  </thead>\n",
       "  <tbody>\n",
       "    <tr>\n",
       "      <th>0</th>\n",
       "      <td>Afghanistan</td>\n",
       "      <td>Kabul</td>\n",
       "      <td>Pashto/Dari(Arabic script)\\n</td>\n",
       "    </tr>\n",
       "    <tr>\n",
       "      <th>1</th>\n",
       "      <td>Albania</td>\n",
       "      <td>Tirana</td>\n",
       "      <td>Albanian\\n</td>\n",
       "    </tr>\n",
       "    <tr>\n",
       "      <th>2</th>\n",
       "      <td>Algeria</td>\n",
       "      <td>Algiers</td>\n",
       "      <td>Berber language(Tifinagh script)Arabic(Arabic ...</td>\n",
       "    </tr>\n",
       "    <tr>\n",
       "      <th>3</th>\n",
       "      <td>American Samoa[1]</td>\n",
       "      <td>Pago Pago</td>\n",
       "      <td>SamoanEnglish\\n</td>\n",
       "    </tr>\n",
       "    <tr>\n",
       "      <th>4</th>\n",
       "      <td>Andorra</td>\n",
       "      <td>Andorra la Vella</td>\n",
       "      <td>Catalan\\n</td>\n",
       "    </tr>\n",
       "    <tr>\n",
       "      <th>...</th>\n",
       "      <td>...</td>\n",
       "      <td>...</td>\n",
       "      <td>...</td>\n",
       "    </tr>\n",
       "    <tr>\n",
       "      <th>237</th>\n",
       "      <td>Vietnam</td>\n",
       "      <td>Hanoi</td>\n",
       "      <td>Vietnamese\\n</td>\n",
       "    </tr>\n",
       "    <tr>\n",
       "      <th>238</th>\n",
       "      <td>Wallis and Futuna[10]</td>\n",
       "      <td>Mata Utu</td>\n",
       "      <td>FrenchWallisianFutunan\\n</td>\n",
       "    </tr>\n",
       "    <tr>\n",
       "      <th>239</th>\n",
       "      <td>Yemen</td>\n",
       "      <td>Sana'a</td>\n",
       "      <td>Arabic(Arabic script)\\n</td>\n",
       "    </tr>\n",
       "    <tr>\n",
       "      <th>240</th>\n",
       "      <td>Zambia</td>\n",
       "      <td>Lusaka</td>\n",
       "      <td>English, Bemba, Chewa\\n</td>\n",
       "    </tr>\n",
       "    <tr>\n",
       "      <th>241</th>\n",
       "      <td>Zimbabwe</td>\n",
       "      <td>Harare</td>\n",
       "      <td>English, Shona\\n</td>\n",
       "    </tr>\n",
       "  </tbody>\n",
       "</table>\n",
       "<p>242 rows × 3 columns</p>\n",
       "</div>"
      ],
      "text/plain": [
       "                    Country           Capital  \\\n",
       "0               Afghanistan             Kabul   \n",
       "1                   Albania            Tirana   \n",
       "2                   Algeria           Algiers   \n",
       "3         American Samoa[1]         Pago Pago   \n",
       "4                   Andorra  Andorra la Vella   \n",
       "..                      ...               ...   \n",
       "237                 Vietnam             Hanoi   \n",
       "238   Wallis and Futuna[10]          Mata Utu   \n",
       "239                   Yemen            Sana'a   \n",
       "240                  Zambia            Lusaka   \n",
       "241                Zimbabwe            Harare   \n",
       "\n",
       "                                              Language  \n",
       "0                         Pashto/Dari(Arabic script)\\n  \n",
       "1                                           Albanian\\n  \n",
       "2    Berber language(Tifinagh script)Arabic(Arabic ...  \n",
       "3                                      SamoanEnglish\\n  \n",
       "4                                            Catalan\\n  \n",
       "..                                                 ...  \n",
       "237                                       Vietnamese\\n  \n",
       "238                           FrenchWallisianFutunan\\n  \n",
       "239                            Arabic(Arabic script)\\n  \n",
       "240                            English, Bemba, Chewa\\n  \n",
       "241                                   English, Shona\\n  \n",
       "\n",
       "[242 rows x 3 columns]"
      ]
     },
     "execution_count": 115,
     "metadata": {},
     "output_type": "execute_result"
    }
   ],
   "source": [
    "df"
   ]
  },
  {
   "cell_type": "code",
   "execution_count": 117,
   "metadata": {},
   "outputs": [
    {
     "data": {
      "text/plain": [
       "(242, 3)"
      ]
     },
     "execution_count": 117,
     "metadata": {},
     "output_type": "execute_result"
    }
   ],
   "source": [
    "df.shape"
   ]
  },
  {
   "cell_type": "code",
   "execution_count": 120,
   "metadata": {},
   "outputs": [
    {
     "data": {
      "text/plain": [
       "0                           Pashto/Dari(Arabic script)\\n\n",
       "1                                             Albanian\\n\n",
       "2      Berber language(Tifinagh script)Arabic(Arabic ...\n",
       "3                                        SamoanEnglish\\n\n",
       "4                                              Catalan\\n\n",
       "                             ...                        \n",
       "237                                         Vietnamese\\n\n",
       "238                             FrenchWallisianFutunan\\n\n",
       "239                              Arabic(Arabic script)\\n\n",
       "240                              English, Bemba, Chewa\\n\n",
       "241                                     English, Shona\\n\n",
       "Name: Language, Length: 242, dtype: object"
      ]
     },
     "execution_count": 120,
     "metadata": {},
     "output_type": "execute_result"
    }
   ],
   "source": [
    "df['Language']"
   ]
  },
  {
   "cell_type": "code",
   "execution_count": 121,
   "metadata": {},
   "outputs": [
    {
     "data": {
      "text/plain": [
       "'\\n'"
      ]
     },
     "execution_count": 121,
     "metadata": {},
     "output_type": "execute_result"
    }
   ],
   "source": [
    "df['Language'][0][-1]"
   ]
  },
  {
   "cell_type": "code",
   "execution_count": 124,
   "metadata": {},
   "outputs": [
    {
     "data": {
      "text/plain": [
       "'Pashto/Dari(Arabic script)\\n'"
      ]
     },
     "execution_count": 124,
     "metadata": {},
     "output_type": "execute_result"
    }
   ],
   "source": [
    "df['Language'][0]"
   ]
  },
  {
   "cell_type": "code",
   "execution_count": 123,
   "metadata": {},
   "outputs": [
    {
     "data": {
      "text/plain": [
       "'Pashto/Dari(Arabic script)'"
      ]
     },
     "execution_count": 123,
     "metadata": {},
     "output_type": "execute_result"
    }
   ],
   "source": [
    "#to remove this \\n from the language we will slice it\n",
    "df['Language'][0][:-1]"
   ]
  },
  {
   "cell_type": "code",
   "execution_count": 126,
   "metadata": {},
   "outputs": [],
   "source": [
    "# to apply this in all languages column\n",
    "df['Language']=df['Language'].apply(lambda x: x[:-1])"
   ]
  },
  {
   "cell_type": "code",
   "execution_count": 128,
   "metadata": {},
   "outputs": [],
   "source": [
    "df.to_csv(\"countries.csv\",index=False)"
   ]
  },
  {
   "cell_type": "code",
   "execution_count": 131,
   "metadata": {},
   "outputs": [
    {
     "data": {
      "text/plain": [
       "0                 Afghanistan\n",
       "1                     Albania\n",
       "2                     Algeria\n",
       "3           American Samoa[1]\n",
       "4                     Andorra\n",
       "                ...          \n",
       "237                   Vietnam\n",
       "238     Wallis and Futuna[10]\n",
       "239                     Yemen\n",
       "240                    Zambia\n",
       "241                  Zimbabwe\n",
       "Name: Country, Length: 242, dtype: object"
      ]
     },
     "execution_count": 131,
     "metadata": {},
     "output_type": "execute_result"
    }
   ],
   "source": [
    "df['Country']"
   ]
  },
  {
   "cell_type": "code",
   "execution_count": 140,
   "metadata": {},
   "outputs": [],
   "source": [
    "# df['Country']=df['Country'].apply(lambda x:x.strip())\n",
    "df['Country']=df['Country'].apply(lambda x:re.sub('\\[.*\\]',\"\",x.strip()))"
   ]
  },
  {
   "cell_type": "code",
   "execution_count": 142,
   "metadata": {},
   "outputs": [],
   "source": [
    "#s=\"helloworld[3]\"\n",
    "#re.sub('\\ [.*\\]',\"\",s)"
   ]
  },
  {
   "cell_type": "code",
   "execution_count": 143,
   "metadata": {},
   "outputs": [
    {
     "data": {
      "text/plain": [
       "'American Samoa'"
      ]
     },
     "execution_count": 143,
     "metadata": {},
     "output_type": "execute_result"
    }
   ],
   "source": [
    "df['Country'][3]"
   ]
  },
  {
   "cell_type": "code",
   "execution_count": 144,
   "metadata": {},
   "outputs": [],
   "source": [
    "df.to_csv(\"countries.csv\",index=False)"
   ]
  },
  {
   "cell_type": "code",
   "execution_count": null,
   "metadata": {},
   "outputs": [],
   "source": []
  }
 ],
 "metadata": {
  "kernelspec": {
   "display_name": "Python 3.10.2 64-bit",
   "language": "python",
   "name": "python3"
  },
  "language_info": {
   "codemirror_mode": {
    "name": "ipython",
    "version": 3
   },
   "file_extension": ".py",
   "mimetype": "text/x-python",
   "name": "python",
   "nbconvert_exporter": "python",
   "pygments_lexer": "ipython3",
   "version": "3.10.2"
  },
  "orig_nbformat": 4,
  "vscode": {
   "interpreter": {
    "hash": "369f2c481f4da34e4445cda3fffd2e751bd1c4d706f27375911949ba6bb62e1c"
   }
  }
 },
 "nbformat": 4,
 "nbformat_minor": 2
}
